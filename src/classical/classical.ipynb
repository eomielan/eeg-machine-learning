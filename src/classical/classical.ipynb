{
 "cells": [
  {
   "cell_type": "markdown",
   "metadata": {},
   "source": [
    "## Data Preprocessing"
   ]
  },
  {
   "cell_type": "markdown",
   "metadata": {},
   "source": [
    "### Separate the input and output columns"
   ]
  },
  {
   "cell_type": "code",
   "execution_count": 1,
   "metadata": {},
   "outputs": [
    {
     "data": {
      "text/html": [
       "<div>\n",
       "<style scoped>\n",
       "    .dataframe tbody tr th:only-of-type {\n",
       "        vertical-align: middle;\n",
       "    }\n",
       "\n",
       "    .dataframe tbody tr th {\n",
       "        vertical-align: top;\n",
       "    }\n",
       "\n",
       "    .dataframe thead th {\n",
       "        text-align: right;\n",
       "    }\n",
       "</style>\n",
       "<table border=\"1\" class=\"dataframe\">\n",
       "  <thead>\n",
       "    <tr style=\"text-align: right;\">\n",
       "      <th></th>\n",
       "      <th>Delta_TP9</th>\n",
       "      <th>Delta_AF7</th>\n",
       "      <th>Delta_AF8</th>\n",
       "      <th>Delta_TP10</th>\n",
       "      <th>Theta_TP9</th>\n",
       "      <th>Theta_AF7</th>\n",
       "      <th>Theta_AF8</th>\n",
       "      <th>Theta_TP10</th>\n",
       "      <th>Alpha_TP9</th>\n",
       "      <th>Alpha_AF7</th>\n",
       "      <th>...</th>\n",
       "      <th>Alpha_TP10</th>\n",
       "      <th>Beta_TP9</th>\n",
       "      <th>Beta_AF7</th>\n",
       "      <th>Beta_AF8</th>\n",
       "      <th>Beta_TP10</th>\n",
       "      <th>Gamma_TP9</th>\n",
       "      <th>Gamma_AF7</th>\n",
       "      <th>Gamma_AF8</th>\n",
       "      <th>Gamma_TP10</th>\n",
       "      <th>Label</th>\n",
       "    </tr>\n",
       "  </thead>\n",
       "  <tbody>\n",
       "    <tr>\n",
       "      <th>0</th>\n",
       "      <td>15039.506465</td>\n",
       "      <td>192.304141</td>\n",
       "      <td>4580.859508</td>\n",
       "      <td>15470.615822</td>\n",
       "      <td>16691.119731</td>\n",
       "      <td>-3586.964009</td>\n",
       "      <td>9284.025365</td>\n",
       "      <td>12367.489225</td>\n",
       "      <td>34891.457559</td>\n",
       "      <td>2638.623057</td>\n",
       "      <td>...</td>\n",
       "      <td>24787.849638</td>\n",
       "      <td>35763.898486</td>\n",
       "      <td>-1747.031767</td>\n",
       "      <td>18749.896503</td>\n",
       "      <td>21732.841485</td>\n",
       "      <td>30719.019539</td>\n",
       "      <td>-10818.298721</td>\n",
       "      <td>16474.820511</td>\n",
       "      <td>14927.852165</td>\n",
       "      <td>1</td>\n",
       "    </tr>\n",
       "    <tr>\n",
       "      <th>1</th>\n",
       "      <td>10698.625832</td>\n",
       "      <td>371.979002</td>\n",
       "      <td>0.000000</td>\n",
       "      <td>11025.378364</td>\n",
       "      <td>9271.735896</td>\n",
       "      <td>-1652.314348</td>\n",
       "      <td>0.000000</td>\n",
       "      <td>10209.872864</td>\n",
       "      <td>15953.995620</td>\n",
       "      <td>1856.581932</td>\n",
       "      <td>...</td>\n",
       "      <td>20423.143734</td>\n",
       "      <td>14964.290933</td>\n",
       "      <td>-1823.978920</td>\n",
       "      <td>0.000000</td>\n",
       "      <td>18542.382053</td>\n",
       "      <td>8423.747544</td>\n",
       "      <td>-7612.025102</td>\n",
       "      <td>0.000000</td>\n",
       "      <td>12953.333059</td>\n",
       "      <td>1</td>\n",
       "    </tr>\n",
       "    <tr>\n",
       "      <th>2</th>\n",
       "      <td>16534.748315</td>\n",
       "      <td>13721.976544</td>\n",
       "      <td>0.000000</td>\n",
       "      <td>16037.723281</td>\n",
       "      <td>12865.616055</td>\n",
       "      <td>6852.139323</td>\n",
       "      <td>0.000000</td>\n",
       "      <td>13717.479341</td>\n",
       "      <td>18997.544880</td>\n",
       "      <td>6561.197358</td>\n",
       "      <td>...</td>\n",
       "      <td>18634.975971</td>\n",
       "      <td>20028.162076</td>\n",
       "      <td>1809.677702</td>\n",
       "      <td>0.000000</td>\n",
       "      <td>18460.828581</td>\n",
       "      <td>17103.865983</td>\n",
       "      <td>-2654.522842</td>\n",
       "      <td>0.000000</td>\n",
       "      <td>13687.488937</td>\n",
       "      <td>0</td>\n",
       "    </tr>\n",
       "    <tr>\n",
       "      <th>3</th>\n",
       "      <td>12594.424822</td>\n",
       "      <td>4492.685913</td>\n",
       "      <td>5852.225505</td>\n",
       "      <td>12014.939539</td>\n",
       "      <td>8925.003742</td>\n",
       "      <td>-1171.472328</td>\n",
       "      <td>2906.952260</td>\n",
       "      <td>9373.242809</td>\n",
       "      <td>15403.021595</td>\n",
       "      <td>3976.963293</td>\n",
       "      <td>...</td>\n",
       "      <td>22992.677781</td>\n",
       "      <td>13524.116260</td>\n",
       "      <td>3582.541148</td>\n",
       "      <td>2357.349428</td>\n",
       "      <td>19568.087452</td>\n",
       "      <td>8960.828237</td>\n",
       "      <td>-244.490676</td>\n",
       "      <td>-85.567083</td>\n",
       "      <td>14361.510170</td>\n",
       "      <td>1</td>\n",
       "    </tr>\n",
       "    <tr>\n",
       "      <th>4</th>\n",
       "      <td>15139.205869</td>\n",
       "      <td>11060.918923</td>\n",
       "      <td>0.000000</td>\n",
       "      <td>14754.730356</td>\n",
       "      <td>11394.833455</td>\n",
       "      <td>2688.208500</td>\n",
       "      <td>0.000000</td>\n",
       "      <td>13389.468519</td>\n",
       "      <td>15612.740116</td>\n",
       "      <td>5059.636844</td>\n",
       "      <td>...</td>\n",
       "      <td>20502.861310</td>\n",
       "      <td>13923.317864</td>\n",
       "      <td>4707.935541</td>\n",
       "      <td>0.000000</td>\n",
       "      <td>16378.049614</td>\n",
       "      <td>9513.526348</td>\n",
       "      <td>346.741274</td>\n",
       "      <td>0.000000</td>\n",
       "      <td>11284.803584</td>\n",
       "      <td>0</td>\n",
       "    </tr>\n",
       "  </tbody>\n",
       "</table>\n",
       "<p>5 rows × 21 columns</p>\n",
       "</div>"
      ],
      "text/plain": [
       "      Delta_TP9     Delta_AF7    Delta_AF8    Delta_TP10     Theta_TP9  \\\n",
       "0  15039.506465    192.304141  4580.859508  15470.615822  16691.119731   \n",
       "1  10698.625832    371.979002     0.000000  11025.378364   9271.735896   \n",
       "2  16534.748315  13721.976544     0.000000  16037.723281  12865.616055   \n",
       "3  12594.424822   4492.685913  5852.225505  12014.939539   8925.003742   \n",
       "4  15139.205869  11060.918923     0.000000  14754.730356  11394.833455   \n",
       "\n",
       "     Theta_AF7    Theta_AF8    Theta_TP10     Alpha_TP9    Alpha_AF7  ...  \\\n",
       "0 -3586.964009  9284.025365  12367.489225  34891.457559  2638.623057  ...   \n",
       "1 -1652.314348     0.000000  10209.872864  15953.995620  1856.581932  ...   \n",
       "2  6852.139323     0.000000  13717.479341  18997.544880  6561.197358  ...   \n",
       "3 -1171.472328  2906.952260   9373.242809  15403.021595  3976.963293  ...   \n",
       "4  2688.208500     0.000000  13389.468519  15612.740116  5059.636844  ...   \n",
       "\n",
       "     Alpha_TP10      Beta_TP9     Beta_AF7      Beta_AF8     Beta_TP10  \\\n",
       "0  24787.849638  35763.898486 -1747.031767  18749.896503  21732.841485   \n",
       "1  20423.143734  14964.290933 -1823.978920      0.000000  18542.382053   \n",
       "2  18634.975971  20028.162076  1809.677702      0.000000  18460.828581   \n",
       "3  22992.677781  13524.116260  3582.541148   2357.349428  19568.087452   \n",
       "4  20502.861310  13923.317864  4707.935541      0.000000  16378.049614   \n",
       "\n",
       "      Gamma_TP9     Gamma_AF7     Gamma_AF8    Gamma_TP10  Label  \n",
       "0  30719.019539 -10818.298721  16474.820511  14927.852165      1  \n",
       "1   8423.747544  -7612.025102      0.000000  12953.333059      1  \n",
       "2  17103.865983  -2654.522842      0.000000  13687.488937      0  \n",
       "3   8960.828237   -244.490676    -85.567083  14361.510170      1  \n",
       "4   9513.526348    346.741274      0.000000  11284.803584      0  \n",
       "\n",
       "[5 rows x 21 columns]"
      ]
     },
     "execution_count": 1,
     "metadata": {},
     "output_type": "execute_result"
    }
   ],
   "source": [
    "import pandas as pd\n",
    "\n",
    "data = pd.read_csv(\"area_under_curve.csv\")\n",
    "data.head()"
   ]
  },
  {
   "cell_type": "markdown",
   "metadata": {},
   "source": [
    "### Median imputation"
   ]
  },
  {
   "cell_type": "code",
   "execution_count": 2,
   "metadata": {},
   "outputs": [],
   "source": [
    "def replace_zeros_with_median(df, label_column):\n",
    "    \"\"\"Function to replace 0s with median for each column based on the label\"\"\"\n",
    "    \n",
    "    for column in df.columns:\n",
    "        # calculate median for each label group\n",
    "        median_values = df.groupby(label_column)[column].median()\n",
    "\n",
    "        # replace 0s with median based on the label of each row\n",
    "        df[column] = df.apply(lambda row: median_values[row[label_column]] if row[column] == 0 else row[column], axis=1)\n",
    "\n",
    "    return df"
   ]
  },
  {
   "cell_type": "code",
   "execution_count": 3,
   "metadata": {},
   "outputs": [
    {
     "data": {
      "text/html": [
       "<div>\n",
       "<style scoped>\n",
       "    .dataframe tbody tr th:only-of-type {\n",
       "        vertical-align: middle;\n",
       "    }\n",
       "\n",
       "    .dataframe tbody tr th {\n",
       "        vertical-align: top;\n",
       "    }\n",
       "\n",
       "    .dataframe thead th {\n",
       "        text-align: right;\n",
       "    }\n",
       "</style>\n",
       "<table border=\"1\" class=\"dataframe\">\n",
       "  <thead>\n",
       "    <tr style=\"text-align: right;\">\n",
       "      <th></th>\n",
       "      <th>Delta_TP9</th>\n",
       "      <th>Delta_AF7</th>\n",
       "      <th>Delta_AF8</th>\n",
       "      <th>Delta_TP10</th>\n",
       "      <th>Theta_TP9</th>\n",
       "      <th>Theta_AF7</th>\n",
       "      <th>Theta_AF8</th>\n",
       "      <th>Theta_TP10</th>\n",
       "      <th>Alpha_TP9</th>\n",
       "      <th>Alpha_AF7</th>\n",
       "      <th>...</th>\n",
       "      <th>Alpha_TP10</th>\n",
       "      <th>Beta_TP9</th>\n",
       "      <th>Beta_AF7</th>\n",
       "      <th>Beta_AF8</th>\n",
       "      <th>Beta_TP10</th>\n",
       "      <th>Gamma_TP9</th>\n",
       "      <th>Gamma_AF7</th>\n",
       "      <th>Gamma_AF8</th>\n",
       "      <th>Gamma_TP10</th>\n",
       "      <th>Label</th>\n",
       "    </tr>\n",
       "  </thead>\n",
       "  <tbody>\n",
       "    <tr>\n",
       "      <th>0</th>\n",
       "      <td>15039.506465</td>\n",
       "      <td>192.304141</td>\n",
       "      <td>4580.859508</td>\n",
       "      <td>15470.615822</td>\n",
       "      <td>16691.119731</td>\n",
       "      <td>-3586.964009</td>\n",
       "      <td>9284.025365</td>\n",
       "      <td>12367.489225</td>\n",
       "      <td>34891.457559</td>\n",
       "      <td>2638.623057</td>\n",
       "      <td>...</td>\n",
       "      <td>24787.849638</td>\n",
       "      <td>35763.898486</td>\n",
       "      <td>-1747.031767</td>\n",
       "      <td>18749.896503</td>\n",
       "      <td>21732.841485</td>\n",
       "      <td>30719.019539</td>\n",
       "      <td>-10818.298721</td>\n",
       "      <td>16474.820511</td>\n",
       "      <td>14927.852165</td>\n",
       "      <td>1.0</td>\n",
       "    </tr>\n",
       "    <tr>\n",
       "      <th>1</th>\n",
       "      <td>10698.625832</td>\n",
       "      <td>371.979002</td>\n",
       "      <td>10611.265447</td>\n",
       "      <td>11025.378364</td>\n",
       "      <td>9271.735896</td>\n",
       "      <td>-1652.314348</td>\n",
       "      <td>3761.048147</td>\n",
       "      <td>10209.872864</td>\n",
       "      <td>15953.995620</td>\n",
       "      <td>1856.581932</td>\n",
       "      <td>...</td>\n",
       "      <td>20423.143734</td>\n",
       "      <td>14964.290933</td>\n",
       "      <td>-1823.978920</td>\n",
       "      <td>2903.246128</td>\n",
       "      <td>18542.382053</td>\n",
       "      <td>8423.747544</td>\n",
       "      <td>-7612.025102</td>\n",
       "      <td>-232.061855</td>\n",
       "      <td>12953.333059</td>\n",
       "      <td>1.0</td>\n",
       "    </tr>\n",
       "    <tr>\n",
       "      <th>2</th>\n",
       "      <td>16534.748315</td>\n",
       "      <td>13721.976544</td>\n",
       "      <td>7233.162447</td>\n",
       "      <td>16037.723281</td>\n",
       "      <td>12865.616055</td>\n",
       "      <td>6852.139323</td>\n",
       "      <td>4152.945713</td>\n",
       "      <td>13717.479341</td>\n",
       "      <td>18997.544880</td>\n",
       "      <td>6561.197358</td>\n",
       "      <td>...</td>\n",
       "      <td>18634.975971</td>\n",
       "      <td>20028.162076</td>\n",
       "      <td>1809.677702</td>\n",
       "      <td>1057.621655</td>\n",
       "      <td>18460.828581</td>\n",
       "      <td>17103.865983</td>\n",
       "      <td>-2654.522842</td>\n",
       "      <td>0.000000</td>\n",
       "      <td>13687.488937</td>\n",
       "      <td>0.0</td>\n",
       "    </tr>\n",
       "    <tr>\n",
       "      <th>3</th>\n",
       "      <td>12594.424822</td>\n",
       "      <td>4492.685913</td>\n",
       "      <td>5852.225505</td>\n",
       "      <td>12014.939539</td>\n",
       "      <td>8925.003742</td>\n",
       "      <td>-1171.472328</td>\n",
       "      <td>2906.952260</td>\n",
       "      <td>9373.242809</td>\n",
       "      <td>15403.021595</td>\n",
       "      <td>3976.963293</td>\n",
       "      <td>...</td>\n",
       "      <td>22992.677781</td>\n",
       "      <td>13524.116260</td>\n",
       "      <td>3582.541148</td>\n",
       "      <td>2357.349428</td>\n",
       "      <td>19568.087452</td>\n",
       "      <td>8960.828237</td>\n",
       "      <td>-244.490676</td>\n",
       "      <td>-85.567083</td>\n",
       "      <td>14361.510170</td>\n",
       "      <td>1.0</td>\n",
       "    </tr>\n",
       "    <tr>\n",
       "      <th>4</th>\n",
       "      <td>15139.205869</td>\n",
       "      <td>11060.918923</td>\n",
       "      <td>7233.162447</td>\n",
       "      <td>14754.730356</td>\n",
       "      <td>11394.833455</td>\n",
       "      <td>2688.208500</td>\n",
       "      <td>4152.945713</td>\n",
       "      <td>13389.468519</td>\n",
       "      <td>15612.740116</td>\n",
       "      <td>5059.636844</td>\n",
       "      <td>...</td>\n",
       "      <td>20502.861310</td>\n",
       "      <td>13923.317864</td>\n",
       "      <td>4707.935541</td>\n",
       "      <td>1057.621655</td>\n",
       "      <td>16378.049614</td>\n",
       "      <td>9513.526348</td>\n",
       "      <td>346.741274</td>\n",
       "      <td>0.000000</td>\n",
       "      <td>11284.803584</td>\n",
       "      <td>0.0</td>\n",
       "    </tr>\n",
       "  </tbody>\n",
       "</table>\n",
       "<p>5 rows × 21 columns</p>\n",
       "</div>"
      ],
      "text/plain": [
       "      Delta_TP9     Delta_AF7     Delta_AF8    Delta_TP10     Theta_TP9  \\\n",
       "0  15039.506465    192.304141   4580.859508  15470.615822  16691.119731   \n",
       "1  10698.625832    371.979002  10611.265447  11025.378364   9271.735896   \n",
       "2  16534.748315  13721.976544   7233.162447  16037.723281  12865.616055   \n",
       "3  12594.424822   4492.685913   5852.225505  12014.939539   8925.003742   \n",
       "4  15139.205869  11060.918923   7233.162447  14754.730356  11394.833455   \n",
       "\n",
       "     Theta_AF7    Theta_AF8    Theta_TP10     Alpha_TP9    Alpha_AF7  ...  \\\n",
       "0 -3586.964009  9284.025365  12367.489225  34891.457559  2638.623057  ...   \n",
       "1 -1652.314348  3761.048147  10209.872864  15953.995620  1856.581932  ...   \n",
       "2  6852.139323  4152.945713  13717.479341  18997.544880  6561.197358  ...   \n",
       "3 -1171.472328  2906.952260   9373.242809  15403.021595  3976.963293  ...   \n",
       "4  2688.208500  4152.945713  13389.468519  15612.740116  5059.636844  ...   \n",
       "\n",
       "     Alpha_TP10      Beta_TP9     Beta_AF7      Beta_AF8     Beta_TP10  \\\n",
       "0  24787.849638  35763.898486 -1747.031767  18749.896503  21732.841485   \n",
       "1  20423.143734  14964.290933 -1823.978920   2903.246128  18542.382053   \n",
       "2  18634.975971  20028.162076  1809.677702   1057.621655  18460.828581   \n",
       "3  22992.677781  13524.116260  3582.541148   2357.349428  19568.087452   \n",
       "4  20502.861310  13923.317864  4707.935541   1057.621655  16378.049614   \n",
       "\n",
       "      Gamma_TP9     Gamma_AF7     Gamma_AF8    Gamma_TP10  Label  \n",
       "0  30719.019539 -10818.298721  16474.820511  14927.852165    1.0  \n",
       "1   8423.747544  -7612.025102   -232.061855  12953.333059    1.0  \n",
       "2  17103.865983  -2654.522842      0.000000  13687.488937    0.0  \n",
       "3   8960.828237   -244.490676    -85.567083  14361.510170    1.0  \n",
       "4   9513.526348    346.741274      0.000000  11284.803584    0.0  \n",
       "\n",
       "[5 rows x 21 columns]"
      ]
     },
     "execution_count": 3,
     "metadata": {},
     "output_type": "execute_result"
    }
   ],
   "source": [
    "data = replace_zeros_with_median(data, \"Label\")\n",
    "data.head()"
   ]
  },
  {
   "cell_type": "code",
   "execution_count": 4,
   "metadata": {},
   "outputs": [
    {
     "data": {
      "text/html": [
       "<div>\n",
       "<style scoped>\n",
       "    .dataframe tbody tr th:only-of-type {\n",
       "        vertical-align: middle;\n",
       "    }\n",
       "\n",
       "    .dataframe tbody tr th {\n",
       "        vertical-align: top;\n",
       "    }\n",
       "\n",
       "    .dataframe thead th {\n",
       "        text-align: right;\n",
       "    }\n",
       "</style>\n",
       "<table border=\"1\" class=\"dataframe\">\n",
       "  <thead>\n",
       "    <tr style=\"text-align: right;\">\n",
       "      <th></th>\n",
       "      <th>Delta_TP9</th>\n",
       "      <th>Delta_AF7</th>\n",
       "      <th>Delta_AF8</th>\n",
       "      <th>Delta_TP10</th>\n",
       "      <th>Theta_TP9</th>\n",
       "      <th>Theta_AF7</th>\n",
       "      <th>Theta_AF8</th>\n",
       "      <th>Theta_TP10</th>\n",
       "      <th>Alpha_TP9</th>\n",
       "      <th>Alpha_AF7</th>\n",
       "      <th>Alpha_AF8</th>\n",
       "      <th>Alpha_TP10</th>\n",
       "      <th>Beta_TP9</th>\n",
       "      <th>Beta_AF7</th>\n",
       "      <th>Beta_AF8</th>\n",
       "      <th>Beta_TP10</th>\n",
       "      <th>Gamma_TP9</th>\n",
       "      <th>Gamma_AF7</th>\n",
       "      <th>Gamma_AF8</th>\n",
       "      <th>Gamma_TP10</th>\n",
       "    </tr>\n",
       "  </thead>\n",
       "  <tbody>\n",
       "    <tr>\n",
       "      <th>0</th>\n",
       "      <td>15039.506465</td>\n",
       "      <td>192.304141</td>\n",
       "      <td>4580.859508</td>\n",
       "      <td>15470.615822</td>\n",
       "      <td>16691.119731</td>\n",
       "      <td>-3586.964009</td>\n",
       "      <td>9284.025365</td>\n",
       "      <td>12367.489225</td>\n",
       "      <td>34891.457559</td>\n",
       "      <td>2638.623057</td>\n",
       "      <td>10377.992349</td>\n",
       "      <td>24787.849638</td>\n",
       "      <td>35763.898486</td>\n",
       "      <td>-1747.031767</td>\n",
       "      <td>18749.896503</td>\n",
       "      <td>21732.841485</td>\n",
       "      <td>30719.019539</td>\n",
       "      <td>-10818.298721</td>\n",
       "      <td>16474.820511</td>\n",
       "      <td>14927.852165</td>\n",
       "    </tr>\n",
       "    <tr>\n",
       "      <th>1</th>\n",
       "      <td>10698.625832</td>\n",
       "      <td>371.979002</td>\n",
       "      <td>10611.265447</td>\n",
       "      <td>11025.378364</td>\n",
       "      <td>9271.735896</td>\n",
       "      <td>-1652.314348</td>\n",
       "      <td>3761.048147</td>\n",
       "      <td>10209.872864</td>\n",
       "      <td>15953.995620</td>\n",
       "      <td>1856.581932</td>\n",
       "      <td>5140.426448</td>\n",
       "      <td>20423.143734</td>\n",
       "      <td>14964.290933</td>\n",
       "      <td>-1823.978920</td>\n",
       "      <td>2903.246128</td>\n",
       "      <td>18542.382053</td>\n",
       "      <td>8423.747544</td>\n",
       "      <td>-7612.025102</td>\n",
       "      <td>-232.061855</td>\n",
       "      <td>12953.333059</td>\n",
       "    </tr>\n",
       "    <tr>\n",
       "      <th>2</th>\n",
       "      <td>16534.748315</td>\n",
       "      <td>13721.976544</td>\n",
       "      <td>7233.162447</td>\n",
       "      <td>16037.723281</td>\n",
       "      <td>12865.616055</td>\n",
       "      <td>6852.139323</td>\n",
       "      <td>4152.945713</td>\n",
       "      <td>13717.479341</td>\n",
       "      <td>18997.544880</td>\n",
       "      <td>6561.197358</td>\n",
       "      <td>3976.212778</td>\n",
       "      <td>18634.975971</td>\n",
       "      <td>20028.162076</td>\n",
       "      <td>1809.677702</td>\n",
       "      <td>1057.621655</td>\n",
       "      <td>18460.828581</td>\n",
       "      <td>17103.865983</td>\n",
       "      <td>-2654.522842</td>\n",
       "      <td>0.000000</td>\n",
       "      <td>13687.488937</td>\n",
       "    </tr>\n",
       "    <tr>\n",
       "      <th>3</th>\n",
       "      <td>12594.424822</td>\n",
       "      <td>4492.685913</td>\n",
       "      <td>5852.225505</td>\n",
       "      <td>12014.939539</td>\n",
       "      <td>8925.003742</td>\n",
       "      <td>-1171.472328</td>\n",
       "      <td>2906.952260</td>\n",
       "      <td>9373.242809</td>\n",
       "      <td>15403.021595</td>\n",
       "      <td>3976.963293</td>\n",
       "      <td>3899.183949</td>\n",
       "      <td>22992.677781</td>\n",
       "      <td>13524.116260</td>\n",
       "      <td>3582.541148</td>\n",
       "      <td>2357.349428</td>\n",
       "      <td>19568.087452</td>\n",
       "      <td>8960.828237</td>\n",
       "      <td>-244.490676</td>\n",
       "      <td>-85.567083</td>\n",
       "      <td>14361.510170</td>\n",
       "    </tr>\n",
       "    <tr>\n",
       "      <th>4</th>\n",
       "      <td>15139.205869</td>\n",
       "      <td>11060.918923</td>\n",
       "      <td>7233.162447</td>\n",
       "      <td>14754.730356</td>\n",
       "      <td>11394.833455</td>\n",
       "      <td>2688.208500</td>\n",
       "      <td>4152.945713</td>\n",
       "      <td>13389.468519</td>\n",
       "      <td>15612.740116</td>\n",
       "      <td>5059.636844</td>\n",
       "      <td>3976.212778</td>\n",
       "      <td>20502.861310</td>\n",
       "      <td>13923.317864</td>\n",
       "      <td>4707.935541</td>\n",
       "      <td>1057.621655</td>\n",
       "      <td>16378.049614</td>\n",
       "      <td>9513.526348</td>\n",
       "      <td>346.741274</td>\n",
       "      <td>0.000000</td>\n",
       "      <td>11284.803584</td>\n",
       "    </tr>\n",
       "  </tbody>\n",
       "</table>\n",
       "</div>"
      ],
      "text/plain": [
       "      Delta_TP9     Delta_AF7     Delta_AF8    Delta_TP10     Theta_TP9  \\\n",
       "0  15039.506465    192.304141   4580.859508  15470.615822  16691.119731   \n",
       "1  10698.625832    371.979002  10611.265447  11025.378364   9271.735896   \n",
       "2  16534.748315  13721.976544   7233.162447  16037.723281  12865.616055   \n",
       "3  12594.424822   4492.685913   5852.225505  12014.939539   8925.003742   \n",
       "4  15139.205869  11060.918923   7233.162447  14754.730356  11394.833455   \n",
       "\n",
       "     Theta_AF7    Theta_AF8    Theta_TP10     Alpha_TP9    Alpha_AF7  \\\n",
       "0 -3586.964009  9284.025365  12367.489225  34891.457559  2638.623057   \n",
       "1 -1652.314348  3761.048147  10209.872864  15953.995620  1856.581932   \n",
       "2  6852.139323  4152.945713  13717.479341  18997.544880  6561.197358   \n",
       "3 -1171.472328  2906.952260   9373.242809  15403.021595  3976.963293   \n",
       "4  2688.208500  4152.945713  13389.468519  15612.740116  5059.636844   \n",
       "\n",
       "      Alpha_AF8    Alpha_TP10      Beta_TP9     Beta_AF7      Beta_AF8  \\\n",
       "0  10377.992349  24787.849638  35763.898486 -1747.031767  18749.896503   \n",
       "1   5140.426448  20423.143734  14964.290933 -1823.978920   2903.246128   \n",
       "2   3976.212778  18634.975971  20028.162076  1809.677702   1057.621655   \n",
       "3   3899.183949  22992.677781  13524.116260  3582.541148   2357.349428   \n",
       "4   3976.212778  20502.861310  13923.317864  4707.935541   1057.621655   \n",
       "\n",
       "      Beta_TP10     Gamma_TP9     Gamma_AF7     Gamma_AF8    Gamma_TP10  \n",
       "0  21732.841485  30719.019539 -10818.298721  16474.820511  14927.852165  \n",
       "1  18542.382053   8423.747544  -7612.025102   -232.061855  12953.333059  \n",
       "2  18460.828581  17103.865983  -2654.522842      0.000000  13687.488937  \n",
       "3  19568.087452   8960.828237   -244.490676    -85.567083  14361.510170  \n",
       "4  16378.049614   9513.526348    346.741274      0.000000  11284.803584  "
      ]
     },
     "execution_count": 4,
     "metadata": {},
     "output_type": "execute_result"
    }
   ],
   "source": [
    "selected_columns = [\n",
    "    'Delta_TP9', 'Delta_AF7', 'Delta_AF8', 'Delta_TP10',\n",
    "    'Theta_TP9', 'Theta_AF7', 'Theta_AF8', 'Theta_TP10',\n",
    "    'Alpha_TP9', 'Alpha_AF7', 'Alpha_AF8', 'Alpha_TP10',\n",
    "    'Beta_TP9', 'Beta_AF7', 'Beta_AF8', 'Beta_TP10',\n",
    "    'Gamma_TP9', 'Gamma_AF7', 'Gamma_AF8', 'Gamma_TP10'\n",
    "]\n",
    "\n",
    "X = data.loc[:, selected_columns]\n",
    "X.head()"
   ]
  },
  {
   "cell_type": "code",
   "execution_count": 5,
   "metadata": {},
   "outputs": [
    {
     "data": {
      "text/plain": [
       "0    1.0\n",
       "1    1.0\n",
       "2    0.0\n",
       "3    1.0\n",
       "4    0.0\n",
       "Name: Label, dtype: float64"
      ]
     },
     "execution_count": 5,
     "metadata": {},
     "output_type": "execute_result"
    }
   ],
   "source": [
    "# For y, we have either 0 or 1. \n",
    "# 0 = \"Recall\"\n",
    "# 1 = \"Maze\"\n",
    "\n",
    "y = data.iloc[:, -1]\n",
    "y.head()"
   ]
  },
  {
   "cell_type": "markdown",
   "metadata": {},
   "source": [
    "### Removing rows with missing data"
   ]
  },
  {
   "cell_type": "code",
   "execution_count": 6,
   "metadata": {},
   "outputs": [
    {
     "data": {
      "text/html": [
       "<div>\n",
       "<style scoped>\n",
       "    .dataframe tbody tr th:only-of-type {\n",
       "        vertical-align: middle;\n",
       "    }\n",
       "\n",
       "    .dataframe tbody tr th {\n",
       "        vertical-align: top;\n",
       "    }\n",
       "\n",
       "    .dataframe thead th {\n",
       "        text-align: right;\n",
       "    }\n",
       "</style>\n",
       "<table border=\"1\" class=\"dataframe\">\n",
       "  <thead>\n",
       "    <tr style=\"text-align: right;\">\n",
       "      <th></th>\n",
       "      <th>Delta_TP9</th>\n",
       "      <th>Delta_AF7</th>\n",
       "      <th>Delta_AF8</th>\n",
       "      <th>Delta_TP10</th>\n",
       "      <th>Theta_TP9</th>\n",
       "      <th>Theta_AF7</th>\n",
       "      <th>Theta_AF8</th>\n",
       "      <th>Theta_TP10</th>\n",
       "      <th>Alpha_TP9</th>\n",
       "      <th>Alpha_AF7</th>\n",
       "      <th>Alpha_AF8</th>\n",
       "      <th>Alpha_TP10</th>\n",
       "      <th>Beta_TP9</th>\n",
       "      <th>Beta_AF7</th>\n",
       "      <th>Beta_AF8</th>\n",
       "      <th>Beta_TP10</th>\n",
       "      <th>Gamma_TP9</th>\n",
       "      <th>Gamma_AF7</th>\n",
       "      <th>Gamma_AF8</th>\n",
       "      <th>Gamma_TP10</th>\n",
       "    </tr>\n",
       "  </thead>\n",
       "  <tbody>\n",
       "    <tr>\n",
       "      <th>0</th>\n",
       "      <td>15039.506465</td>\n",
       "      <td>192.304141</td>\n",
       "      <td>4580.859508</td>\n",
       "      <td>15470.615822</td>\n",
       "      <td>16691.119731</td>\n",
       "      <td>-3586.964009</td>\n",
       "      <td>9284.025365</td>\n",
       "      <td>12367.489225</td>\n",
       "      <td>34891.457559</td>\n",
       "      <td>2638.623057</td>\n",
       "      <td>10377.992349</td>\n",
       "      <td>24787.849638</td>\n",
       "      <td>35763.898486</td>\n",
       "      <td>-1747.031767</td>\n",
       "      <td>18749.896503</td>\n",
       "      <td>21732.841485</td>\n",
       "      <td>30719.019539</td>\n",
       "      <td>-10818.298721</td>\n",
       "      <td>16474.820511</td>\n",
       "      <td>14927.852165</td>\n",
       "    </tr>\n",
       "    <tr>\n",
       "      <th>1</th>\n",
       "      <td>10698.625832</td>\n",
       "      <td>371.979002</td>\n",
       "      <td>10611.265447</td>\n",
       "      <td>11025.378364</td>\n",
       "      <td>9271.735896</td>\n",
       "      <td>-1652.314348</td>\n",
       "      <td>3761.048147</td>\n",
       "      <td>10209.872864</td>\n",
       "      <td>15953.995620</td>\n",
       "      <td>1856.581932</td>\n",
       "      <td>5140.426448</td>\n",
       "      <td>20423.143734</td>\n",
       "      <td>14964.290933</td>\n",
       "      <td>-1823.978920</td>\n",
       "      <td>2903.246128</td>\n",
       "      <td>18542.382053</td>\n",
       "      <td>8423.747544</td>\n",
       "      <td>-7612.025102</td>\n",
       "      <td>-232.061855</td>\n",
       "      <td>12953.333059</td>\n",
       "    </tr>\n",
       "    <tr>\n",
       "      <th>2</th>\n",
       "      <td>16534.748315</td>\n",
       "      <td>13721.976544</td>\n",
       "      <td>7233.162447</td>\n",
       "      <td>16037.723281</td>\n",
       "      <td>12865.616055</td>\n",
       "      <td>6852.139323</td>\n",
       "      <td>4152.945713</td>\n",
       "      <td>13717.479341</td>\n",
       "      <td>18997.544880</td>\n",
       "      <td>6561.197358</td>\n",
       "      <td>3976.212778</td>\n",
       "      <td>18634.975971</td>\n",
       "      <td>20028.162076</td>\n",
       "      <td>1809.677702</td>\n",
       "      <td>1057.621655</td>\n",
       "      <td>18460.828581</td>\n",
       "      <td>17103.865983</td>\n",
       "      <td>-2654.522842</td>\n",
       "      <td>0.000000</td>\n",
       "      <td>13687.488937</td>\n",
       "    </tr>\n",
       "    <tr>\n",
       "      <th>3</th>\n",
       "      <td>12594.424822</td>\n",
       "      <td>4492.685913</td>\n",
       "      <td>5852.225505</td>\n",
       "      <td>12014.939539</td>\n",
       "      <td>8925.003742</td>\n",
       "      <td>-1171.472328</td>\n",
       "      <td>2906.952260</td>\n",
       "      <td>9373.242809</td>\n",
       "      <td>15403.021595</td>\n",
       "      <td>3976.963293</td>\n",
       "      <td>3899.183949</td>\n",
       "      <td>22992.677781</td>\n",
       "      <td>13524.116260</td>\n",
       "      <td>3582.541148</td>\n",
       "      <td>2357.349428</td>\n",
       "      <td>19568.087452</td>\n",
       "      <td>8960.828237</td>\n",
       "      <td>-244.490676</td>\n",
       "      <td>-85.567083</td>\n",
       "      <td>14361.510170</td>\n",
       "    </tr>\n",
       "    <tr>\n",
       "      <th>4</th>\n",
       "      <td>15139.205869</td>\n",
       "      <td>11060.918923</td>\n",
       "      <td>7233.162447</td>\n",
       "      <td>14754.730356</td>\n",
       "      <td>11394.833455</td>\n",
       "      <td>2688.208500</td>\n",
       "      <td>4152.945713</td>\n",
       "      <td>13389.468519</td>\n",
       "      <td>15612.740116</td>\n",
       "      <td>5059.636844</td>\n",
       "      <td>3976.212778</td>\n",
       "      <td>20502.861310</td>\n",
       "      <td>13923.317864</td>\n",
       "      <td>4707.935541</td>\n",
       "      <td>1057.621655</td>\n",
       "      <td>16378.049614</td>\n",
       "      <td>9513.526348</td>\n",
       "      <td>346.741274</td>\n",
       "      <td>0.000000</td>\n",
       "      <td>11284.803584</td>\n",
       "    </tr>\n",
       "  </tbody>\n",
       "</table>\n",
       "</div>"
      ],
      "text/plain": [
       "      Delta_TP9     Delta_AF7     Delta_AF8    Delta_TP10     Theta_TP9  \\\n",
       "0  15039.506465    192.304141   4580.859508  15470.615822  16691.119731   \n",
       "1  10698.625832    371.979002  10611.265447  11025.378364   9271.735896   \n",
       "2  16534.748315  13721.976544   7233.162447  16037.723281  12865.616055   \n",
       "3  12594.424822   4492.685913   5852.225505  12014.939539   8925.003742   \n",
       "4  15139.205869  11060.918923   7233.162447  14754.730356  11394.833455   \n",
       "\n",
       "     Theta_AF7    Theta_AF8    Theta_TP10     Alpha_TP9    Alpha_AF7  \\\n",
       "0 -3586.964009  9284.025365  12367.489225  34891.457559  2638.623057   \n",
       "1 -1652.314348  3761.048147  10209.872864  15953.995620  1856.581932   \n",
       "2  6852.139323  4152.945713  13717.479341  18997.544880  6561.197358   \n",
       "3 -1171.472328  2906.952260   9373.242809  15403.021595  3976.963293   \n",
       "4  2688.208500  4152.945713  13389.468519  15612.740116  5059.636844   \n",
       "\n",
       "      Alpha_AF8    Alpha_TP10      Beta_TP9     Beta_AF7      Beta_AF8  \\\n",
       "0  10377.992349  24787.849638  35763.898486 -1747.031767  18749.896503   \n",
       "1   5140.426448  20423.143734  14964.290933 -1823.978920   2903.246128   \n",
       "2   3976.212778  18634.975971  20028.162076  1809.677702   1057.621655   \n",
       "3   3899.183949  22992.677781  13524.116260  3582.541148   2357.349428   \n",
       "4   3976.212778  20502.861310  13923.317864  4707.935541   1057.621655   \n",
       "\n",
       "      Beta_TP10     Gamma_TP9     Gamma_AF7     Gamma_AF8    Gamma_TP10  \n",
       "0  21732.841485  30719.019539 -10818.298721  16474.820511  14927.852165  \n",
       "1  18542.382053   8423.747544  -7612.025102   -232.061855  12953.333059  \n",
       "2  18460.828581  17103.865983  -2654.522842      0.000000  13687.488937  \n",
       "3  19568.087452   8960.828237   -244.490676    -85.567083  14361.510170  \n",
       "4  16378.049614   9513.526348    346.741274      0.000000  11284.803584  "
      ]
     },
     "execution_count": 6,
     "metadata": {},
     "output_type": "execute_result"
    }
   ],
   "source": [
    "X_cleaned = X.dropna()\n",
    "X_cleaned.head()"
   ]
  },
  {
   "cell_type": "markdown",
   "metadata": {},
   "source": [
    "### Remove outliers"
   ]
  },
  {
   "cell_type": "code",
   "execution_count": 7,
   "metadata": {},
   "outputs": [],
   "source": [
    "Q1 = X_cleaned.quantile(0.25)\n",
    "Q3 = X_cleaned.quantile(0.75)\n",
    "IQR = Q3 - Q1\n",
    "\n",
    "lower_bound = Q1 - 3.0 * IQR\n",
    "upper_bound = Q3 + 3.0 * IQR\n",
    "\n",
    "outliers = ((X_cleaned < lower_bound) | (X_cleaned > upper_bound)).any(axis=1)\n",
    "\n",
    "X_cleaned = X_cleaned[~outliers]\n",
    "y_cleaned = y[~outliers]"
   ]
  },
  {
   "cell_type": "markdown",
   "metadata": {},
   "source": [
    "### Splitting the train and test data"
   ]
  },
  {
   "cell_type": "code",
   "execution_count": 8,
   "metadata": {},
   "outputs": [
    {
     "name": "stdout",
     "output_type": "stream",
     "text": [
      "(18, 20) (5, 20) (18,) (5,)\n"
     ]
    }
   ],
   "source": [
    "from sklearn.model_selection import train_test_split\n",
    "\n",
    "X_train, X_test, y_train, y_test = train_test_split(X_cleaned, y_cleaned, test_size=0.2, random_state=42)\n",
    "print(X_train.shape, X_test.shape, y_train.shape, y_test.shape)"
   ]
  },
  {
   "cell_type": "markdown",
   "metadata": {},
   "source": [
    "### Data Augmentation"
   ]
  },
  {
   "cell_type": "code",
   "execution_count": 9,
   "metadata": {},
   "outputs": [],
   "source": [
    "import numpy as np\n",
    "\n",
    "augmentation_factor = 2\n",
    "noise_factor = 0.5\n",
    "\n",
    "X_train_augmented = np.empty((0, X_train.shape[1]))\n",
    "y_train_augmented = np.tile(y_train, augmentation_factor)\n",
    "\n",
    "for i in range(augmentation_factor):\n",
    "    X_train_noisy = X_train + np.random.normal(0, noise_factor, size=X_train.shape)\n",
    "    X_train_augmented = np.vstack((X_train_augmented, X_train_noisy))\n",
    "\n",
    "y_train_augmented = np.tile(y_train, augmentation_factor)"
   ]
  },
  {
   "cell_type": "markdown",
   "metadata": {},
   "source": [
    "### Feature Scaling"
   ]
  },
  {
   "cell_type": "code",
   "execution_count": 10,
   "metadata": {},
   "outputs": [
    {
     "name": "stderr",
     "output_type": "stream",
     "text": [
      "C:\\anaconda3\\Lib\\site-packages\\sklearn\\base.py:457: UserWarning: X has feature names, but StandardScaler was fitted without feature names\n",
      "  warnings.warn(\n"
     ]
    }
   ],
   "source": [
    "from sklearn.preprocessing import StandardScaler\n",
    "\n",
    "sc = StandardScaler()\n",
    "sc.fit(X_train_augmented)\n",
    "\n",
    "sc.feature_names_in_ = [str(i) for i in range(X_train_augmented.shape[1])]\n",
    "\n",
    "X_train = sc.fit_transform(X_train_augmented)\n",
    "y_train = y_train_augmented\n",
    "X_test = sc.transform(X_test)"
   ]
  },
  {
   "cell_type": "markdown",
   "metadata": {},
   "source": [
    "## Defining Evaluation Functions"
   ]
  },
  {
   "cell_type": "markdown",
   "metadata": {},
   "source": [
    "### Confusion Matrix"
   ]
  },
  {
   "cell_type": "code",
   "execution_count": 11,
   "metadata": {},
   "outputs": [],
   "source": [
    "import seaborn as sb\n",
    "import matplotlib.pyplot as plt\n",
    "from sklearn.metrics import confusion_matrix\n",
    "\n",
    "def show_confusion_matrix(y_test, y_pred, name):\n",
    "    cm = confusion_matrix(y_test, y_pred)\n",
    "\n",
    "    # Print confusion matrix\n",
    "    print(f\"Confusion Matrix for {name}\")\n",
    "    print(cm)\n",
    "\n",
    "    plt.figure(figsize=(12, 4))\n",
    "\n",
    "    # Plot the first heatmap\n",
    "    sb.heatmap(cm, annot=True, fmt=\"d\", cmap=\"Blues\", cbar=False,\n",
    "                xticklabels=[\"Predicted Negative\", \"Predicted Positive\"],\n",
    "                yticklabels=[\"Actual Negative\", \"Actual Positive\"])\n",
    "    plt.xlabel('Predicted')\n",
    "    plt.ylabel('Actual')\n",
    "    plt.title(f'Confusion Matrix for {name}')\n",
    "    plt.show()\n",
    "    \n",
    "    print(\"Note: The negative class (0) is 'Recall', while the positive class (1) is 'Maze'.\")"
   ]
  },
  {
   "cell_type": "markdown",
   "metadata": {},
   "source": [
    "### K-fold Cross-Validation"
   ]
  },
  {
   "cell_type": "code",
   "execution_count": 12,
   "metadata": {},
   "outputs": [],
   "source": [
    "from sklearn.metrics import accuracy_score\n",
    "from sklearn.model_selection import cross_val_score\n",
    "\n",
    "def show_kfold_cross_validation(model, X_train, y_train, X_test, y_test, cv):\n",
    "    scores = cross_val_score(model, X_train, y_train, cv=cv)\n",
    "\n",
    "    # Store cross-validation scores in a DataFrame\n",
    "    cv_results = pd.DataFrame({'Fold': range(1, len(scores) + 1), 'Accuracy': scores})\n",
    "\n",
    "    # Display cross-validation scores\n",
    "    print(\"Cross-Validation Scores:\")\n",
    "    print(cv_results.to_string(index=False))\n",
    "    \n",
    "    # Calculate and display mean accuracy\n",
    "    mean_accuracy = scores.mean()\n",
    "    print(f'\\nMean Accuracy: {mean_accuracy:.3f}')\n",
    "    \n",
    "    # Fit the model on the training set and make predictions on the test set\n",
    "    model.fit(X_train, y_train)\n",
    "    y_pred = model.predict(X_test)\n",
    "\n",
    "    # Calculate and display test accuracy\n",
    "    test_accuracy = accuracy_score(y_test, y_pred)\n",
    "    print(f\"Test Accuracy: {test_accuracy:.3f}\")"
   ]
  },
  {
   "cell_type": "markdown",
   "metadata": {},
   "source": [
    "## Evaluating Models"
   ]
  },
  {
   "cell_type": "markdown",
   "metadata": {},
   "source": [
    "### KNN"
   ]
  },
  {
   "cell_type": "code",
   "execution_count": 13,
   "metadata": {},
   "outputs": [
    {
     "name": "stdout",
     "output_type": "stream",
     "text": [
      "Cross-Validation Scores:\n",
      " Fold  Accuracy\n",
      "    1  0.750000\n",
      "    2  0.285714\n",
      "    3  0.857143\n",
      "    4  0.714286\n",
      "    5  0.714286\n",
      "\n",
      "Mean Accuracy: 0.664\n",
      "Test Accuracy: 0.800\n",
      "Confusion Matrix for KNN\n",
      "[[2 0]\n",
      " [1 2]]\n"
     ]
    },
    {
     "data": {
      "image/png": "[encoded data removed]",
      "text/plain": [
       "<Figure size 1200x400 with 1 Axes>"
      ]
     },
     "metadata": {},
     "output_type": "display_data"
    },
    {
     "name": "stdout",
     "output_type": "stream",
     "text": [
      "Note: The negative class (0) is 'Recall', while the positive class (1) is 'Maze'.\n"
     ]
    }
   ],
   "source": [
    "from sklearn.neighbors import KNeighborsClassifier\n",
    "\n",
    "knn_clf = KNeighborsClassifier(n_neighbors=5)\n",
    "knn_clf.fit(X_train, y_train)\n",
    "y_pred_knn = knn_clf.predict(X_test)\n",
    "\n",
    "show_kfold_cross_validation(knn_clf, X_train, y_train, X_test, y_test, 5)\n",
    "show_confusion_matrix(y_test, y_pred_knn, \"KNN\")"
   ]
  },
  {
   "cell_type": "markdown",
   "metadata": {},
   "source": [
    "### Logistic Regression"
   ]
  },
  {
   "cell_type": "code",
   "execution_count": 14,
   "metadata": {},
   "outputs": [
    {
     "name": "stdout",
     "output_type": "stream",
     "text": [
      "Cross-Validation Scores:\n",
      " Fold  Accuracy\n",
      "    1  0.750000\n",
      "    2  1.000000\n",
      "    3  0.714286\n",
      "    4  1.000000\n",
      "    5  1.000000\n",
      "\n",
      "Mean Accuracy: 0.893\n",
      "Test Accuracy: 0.800\n",
      "Confusion Matrix for Logistic Regression\n",
      "[[2 0]\n",
      " [1 2]]\n"
     ]
    },
    {
     "data": {
      "image/png": "[encoded data removed]",
      "text/plain": [
       "<Figure size 1200x400 with 1 Axes>"
      ]
     },
     "metadata": {},
     "output_type": "display_data"
    },
    {
     "name": "stdout",
     "output_type": "stream",
     "text": [
      "Note: The negative class (0) is 'Recall', while the positive class (1) is 'Maze'.\n"
     ]
    }
   ],
   "source": [
    "from sklearn.linear_model import LogisticRegression\n",
    "\n",
    "reg_model = LogisticRegression(max_iter=1000)\n",
    "reg_model.fit(X_train, y_train)\n",
    "y_pred_reg = reg_model.predict(X_test)\n",
    "\n",
    "show_kfold_cross_validation(reg_model, X_train, y_train, X_test, y_test, 5)\n",
    "show_confusion_matrix(y_test, y_pred_reg, \"Logistic Regression\")"
   ]
  },
  {
   "cell_type": "markdown",
   "metadata": {},
   "source": [
    "### SVM"
   ]
  },
  {
   "cell_type": "code",
   "execution_count": 15,
   "metadata": {},
   "outputs": [
    {
     "name": "stdout",
     "output_type": "stream",
     "text": [
      "Cross-Validation Scores:\n",
      " Fold  Accuracy\n",
      "    1  0.875000\n",
      "    2  0.714286\n",
      "    3  1.000000\n",
      "    4  0.714286\n",
      "    5  1.000000\n",
      "\n",
      "Mean Accuracy: 0.861\n",
      "Test Accuracy: 0.800\n",
      "Confusion Matrix for SVM\n",
      "[[2 0]\n",
      " [1 2]]\n"
     ]
    },
    {
     "data": {
      "image/png": "[encoded data removed]",
      "text/plain": [
       "<Figure size 1200x400 with 1 Axes>"
      ]
     },
     "metadata": {},
     "output_type": "display_data"
    },
    {
     "name": "stdout",
     "output_type": "stream",
     "text": [
      "Note: The negative class (0) is 'Recall', while the positive class (1) is 'Maze'.\n"
     ]
    }
   ],
   "source": [
    "from sklearn.svm import SVC\n",
    "\n",
    "svmrbf = SVC(kernel='rbf')\n",
    "svmrbf.fit(X_train, y_train)\n",
    "y_pred_svm = svmrbf.predict(X_test)\n",
    "\n",
    "show_kfold_cross_validation(svmrbf, X_train, y_train, X_test, y_test, 5)\n",
    "show_confusion_matrix(y_test, y_pred_reg, \"SVM\")"
   ]
  },
  {
   "cell_type": "markdown",
   "metadata": {},
   "source": [
    "### Decision Tree Classifier"
   ]
  },
  {
   "cell_type": "code",
   "execution_count": 16,
   "metadata": {},
   "outputs": [
    {
     "name": "stdout",
     "output_type": "stream",
     "text": [
      "Cross-Validation Scores:\n",
      " Fold  Accuracy\n",
      "    1       1.0\n",
      "    2       1.0\n",
      "    3       1.0\n",
      "    4       1.0\n",
      "    5       1.0\n",
      "\n",
      "Mean Accuracy: 1.000\n",
      "Test Accuracy: 1.000\n",
      "Confusion Matrix for Decision Tree\n",
      "[[2 0]\n",
      " [0 3]]\n"
     ]
    },
    {
     "data": {
      "image/png": "[encoded data removed]",
      "text/plain": [
       "<Figure size 1200x400 with 1 Axes>"
      ]
     },
     "metadata": {},
     "output_type": "display_data"
    },
    {
     "name": "stdout",
     "output_type": "stream",
     "text": [
      "Note: The negative class (0) is 'Recall', while the positive class (1) is 'Maze'.\n"
     ]
    }
   ],
   "source": [
    "from sklearn.tree import DecisionTreeClassifier\n",
    "\n",
    "dt_classifier = DecisionTreeClassifier(max_depth=10)\n",
    "dt_classifier.fit(X_train, y_train)\n",
    "y_pred_dt = dt_classifier.predict(X_test)\n",
    "\n",
    "show_kfold_cross_validation(dt_classifier, X_train, y_train, X_test, y_test, 5)\n",
    "show_confusion_matrix(y_test, y_pred_dt, \"Decision Tree\")"
   ]
  },
  {
   "cell_type": "markdown",
   "metadata": {},
   "source": [
    "### Random Forest Classifier"
   ]
  },
  {
   "cell_type": "code",
   "execution_count": 17,
   "metadata": {},
   "outputs": [
    {
     "name": "stdout",
     "output_type": "stream",
     "text": [
      "Cross-Validation Scores:\n",
      " Fold  Accuracy\n",
      "    1       1.0\n",
      "    2       1.0\n",
      "    3       1.0\n",
      "    4       1.0\n",
      "    5       1.0\n",
      "\n",
      "Mean Accuracy: 1.000\n",
      "Test Accuracy: 0.800\n",
      "Confusion Matrix for Random Forest\n",
      "[[2 0]\n",
      " [1 2]]\n"
     ]
    },
    {
     "data": {
      "image/png": "[encoded data removed]",
      "text/plain": [
       "<Figure size 1200x400 with 1 Axes>"
      ]
     },
     "metadata": {},
     "output_type": "display_data"
    },
    {
     "name": "stdout",
     "output_type": "stream",
     "text": [
      "Note: The negative class (0) is 'Recall', while the positive class (1) is 'Maze'.\n"
     ]
    }
   ],
   "source": [
    "from sklearn.ensemble import RandomForestClassifier\n",
    "\n",
    "rf_classifier = RandomForestClassifier(class_weight='balanced')\n",
    "rf_classifier.fit(X_train, y_train)\n",
    "y_pred_rf = rf_classifier.predict(X_test)\n",
    "\n",
    "show_kfold_cross_validation(rf_classifier, X_train, y_train, X_test, y_test, 5)\n",
    "show_confusion_matrix(y_test, y_pred_rf, \"Random Forest\")"
   ]
  }
 ],
 "metadata": {
  "kernelspec": {
   "display_name": "Python 3 (ipykernel)",
   "language": "python",
   "name": "python3"
  },
  "language_info": {
   "codemirror_mode": {
    "name": "ipython",
    "version": 3
   },
   "file_extension": ".py",
   "mimetype": "text/x-python",
   "name": "python",
   "nbconvert_exporter": "python",
   "pygments_lexer": "ipython3",
   "version": "3.11.4"
  },
  "toc": {
   "base_numbering": 1,
   "nav_menu": {},
   "number_sections": true,
   "sideBar": true,
   "skip_h1_title": false,
   "title_cell": "Table of Contents",
   "title_sidebar": "Contents",
   "toc_cell": false,
   "toc_position": {},
   "toc_section_display": true,
   "toc_window_display": false
  },
  "varInspector": {
   "cols": {
    "lenName": 16,
    "lenType": 16,
    "lenVar": 40
   },
   "kernels_config": {
    "python": {
     "delete_cmd_postfix": "",
     "delete_cmd_prefix": "del ",
     "library": "var_list.py",
     "varRefreshCmd": "print(var_dic_list())"
    },
    "r": {
     "delete_cmd_postfix": ") ",
     "delete_cmd_prefix": "rm(",
     "library": "var_list.r",
     "varRefreshCmd": "cat(var_dic_list()) "
    }
   },
   "types_to_exclude": [
    "module",
    "function",
    "builtin_function_or_method",
    "instance",
    "_Feature"
   ],
   "window_display": false
  }
 },
 "nbformat": 4,
 "nbformat_minor": 2
}
