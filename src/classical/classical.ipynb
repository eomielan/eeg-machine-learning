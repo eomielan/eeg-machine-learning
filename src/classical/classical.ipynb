{
 "cells": [
  {
   "cell_type": "markdown",
   "metadata": {},
   "source": [
    "## Data Preprocessing"
   ]
  },
  {
   "cell_type": "markdown",
   "metadata": {},
   "source": [
    "### Separate the input and output columns"
   ]
  },
  {
   "cell_type": "code",
   "execution_count": 1,
   "metadata": {},
   "outputs": [
    {
     "data": {
      "text/html": [
       "<div>\n",
       "<style scoped>\n",
       "    .dataframe tbody tr th:only-of-type {\n",
       "        vertical-align: middle;\n",
       "    }\n",
       "\n",
       "    .dataframe tbody tr th {\n",
       "        vertical-align: top;\n",
       "    }\n",
       "\n",
       "    .dataframe thead th {\n",
       "        text-align: right;\n",
       "    }\n",
       "</style>\n",
       "<table border=\"1\" class=\"dataframe\">\n",
       "  <thead>\n",
       "    <tr style=\"text-align: right;\">\n",
       "      <th></th>\n",
       "      <th>Delta_TP9</th>\n",
       "      <th>Delta_AF7</th>\n",
       "      <th>Delta_AF8</th>\n",
       "      <th>Delta_TP10</th>\n",
       "      <th>Theta_TP9</th>\n",
       "      <th>Theta_AF7</th>\n",
       "      <th>Theta_AF8</th>\n",
       "      <th>Theta_TP10</th>\n",
       "      <th>Alpha_TP9</th>\n",
       "      <th>Alpha_AF7</th>\n",
       "      <th>...</th>\n",
       "      <th>Alpha_TP10</th>\n",
       "      <th>Beta_TP9</th>\n",
       "      <th>Beta_AF7</th>\n",
       "      <th>Beta_AF8</th>\n",
       "      <th>Beta_TP10</th>\n",
       "      <th>Gamma_TP9</th>\n",
       "      <th>Gamma_AF7</th>\n",
       "      <th>Gamma_AF8</th>\n",
       "      <th>Gamma_TP10</th>\n",
       "      <th>Label</th>\n",
       "    </tr>\n",
       "  </thead>\n",
       "  <tbody>\n",
       "    <tr>\n",
       "      <th>0</th>\n",
       "      <td>17099.267458</td>\n",
       "      <td>18719.659603</td>\n",
       "      <td>0.000000</td>\n",
       "      <td>16531.085677</td>\n",
       "      <td>14241.372044</td>\n",
       "      <td>16014.591076</td>\n",
       "      <td>0.000000</td>\n",
       "      <td>14005.573779</td>\n",
       "      <td>20210.156169</td>\n",
       "      <td>13390.938539</td>\n",
       "      <td>...</td>\n",
       "      <td>17939.091727</td>\n",
       "      <td>18599.079901</td>\n",
       "      <td>11146.124580</td>\n",
       "      <td>0.000000</td>\n",
       "      <td>16501.495172</td>\n",
       "      <td>14527.987858</td>\n",
       "      <td>1724.751042</td>\n",
       "      <td>0.000000</td>\n",
       "      <td>13411.244841</td>\n",
       "      <td>1</td>\n",
       "    </tr>\n",
       "    <tr>\n",
       "      <th>1</th>\n",
       "      <td>11198.720300</td>\n",
       "      <td>18034.494223</td>\n",
       "      <td>0.000000</td>\n",
       "      <td>10638.094777</td>\n",
       "      <td>9873.838888</td>\n",
       "      <td>10651.599822</td>\n",
       "      <td>0.000000</td>\n",
       "      <td>10103.227633</td>\n",
       "      <td>14258.112876</td>\n",
       "      <td>11266.480227</td>\n",
       "      <td>...</td>\n",
       "      <td>11566.187760</td>\n",
       "      <td>16072.507083</td>\n",
       "      <td>4980.861282</td>\n",
       "      <td>0.000000</td>\n",
       "      <td>14331.406797</td>\n",
       "      <td>10389.427864</td>\n",
       "      <td>698.552269</td>\n",
       "      <td>0.000000</td>\n",
       "      <td>11762.435847</td>\n",
       "      <td>0</td>\n",
       "    </tr>\n",
       "    <tr>\n",
       "      <th>2</th>\n",
       "      <td>11759.988085</td>\n",
       "      <td>13951.123996</td>\n",
       "      <td>19378.781415</td>\n",
       "      <td>12556.104976</td>\n",
       "      <td>13919.691015</td>\n",
       "      <td>10065.378732</td>\n",
       "      <td>11625.817268</td>\n",
       "      <td>11532.015437</td>\n",
       "      <td>17423.918870</td>\n",
       "      <td>11571.261819</td>\n",
       "      <td>...</td>\n",
       "      <td>16049.267047</td>\n",
       "      <td>22875.177018</td>\n",
       "      <td>7477.828144</td>\n",
       "      <td>11555.482578</td>\n",
       "      <td>19023.980067</td>\n",
       "      <td>21727.751956</td>\n",
       "      <td>1820.347673</td>\n",
       "      <td>8161.365913</td>\n",
       "      <td>18038.997118</td>\n",
       "      <td>1</td>\n",
       "    </tr>\n",
       "    <tr>\n",
       "      <th>3</th>\n",
       "      <td>15323.164331</td>\n",
       "      <td>17742.255086</td>\n",
       "      <td>26539.714903</td>\n",
       "      <td>13709.487935</td>\n",
       "      <td>12177.496766</td>\n",
       "      <td>11701.420319</td>\n",
       "      <td>19188.046574</td>\n",
       "      <td>12695.649223</td>\n",
       "      <td>16062.281032</td>\n",
       "      <td>11428.816573</td>\n",
       "      <td>...</td>\n",
       "      <td>14820.330323</td>\n",
       "      <td>20204.401936</td>\n",
       "      <td>7329.884952</td>\n",
       "      <td>13204.570131</td>\n",
       "      <td>17277.559869</td>\n",
       "      <td>14531.156166</td>\n",
       "      <td>-292.081546</td>\n",
       "      <td>4763.145038</td>\n",
       "      <td>13344.224953</td>\n",
       "      <td>0</td>\n",
       "    </tr>\n",
       "    <tr>\n",
       "      <th>4</th>\n",
       "      <td>11107.305700</td>\n",
       "      <td>9098.477752</td>\n",
       "      <td>0.000000</td>\n",
       "      <td>13752.142985</td>\n",
       "      <td>12020.918779</td>\n",
       "      <td>4061.515408</td>\n",
       "      <td>0.000000</td>\n",
       "      <td>10217.907270</td>\n",
       "      <td>18837.984110</td>\n",
       "      <td>7334.236651</td>\n",
       "      <td>...</td>\n",
       "      <td>13511.564101</td>\n",
       "      <td>18480.740151</td>\n",
       "      <td>4682.758088</td>\n",
       "      <td>0.000000</td>\n",
       "      <td>14374.795867</td>\n",
       "      <td>14601.476676</td>\n",
       "      <td>534.096694</td>\n",
       "      <td>0.000000</td>\n",
       "      <td>10550.715838</td>\n",
       "      <td>0</td>\n",
       "    </tr>\n",
       "  </tbody>\n",
       "</table>\n",
       "<p>5 rows × 21 columns</p>\n",
       "</div>"
      ],
      "text/plain": [
       "      Delta_TP9     Delta_AF7     Delta_AF8    Delta_TP10     Theta_TP9  \\\n",
       "0  17099.267458  18719.659603      0.000000  16531.085677  14241.372044   \n",
       "1  11198.720300  18034.494223      0.000000  10638.094777   9873.838888   \n",
       "2  11759.988085  13951.123996  19378.781415  12556.104976  13919.691015   \n",
       "3  15323.164331  17742.255086  26539.714903  13709.487935  12177.496766   \n",
       "4  11107.305700   9098.477752      0.000000  13752.142985  12020.918779   \n",
       "\n",
       "      Theta_AF7     Theta_AF8    Theta_TP10     Alpha_TP9     Alpha_AF7  ...  \\\n",
       "0  16014.591076      0.000000  14005.573779  20210.156169  13390.938539  ...   \n",
       "1  10651.599822      0.000000  10103.227633  14258.112876  11266.480227  ...   \n",
       "2  10065.378732  11625.817268  11532.015437  17423.918870  11571.261819  ...   \n",
       "3  11701.420319  19188.046574  12695.649223  16062.281032  11428.816573  ...   \n",
       "4   4061.515408      0.000000  10217.907270  18837.984110   7334.236651  ...   \n",
       "\n",
       "     Alpha_TP10      Beta_TP9      Beta_AF7      Beta_AF8     Beta_TP10  \\\n",
       "0  17939.091727  18599.079901  11146.124580      0.000000  16501.495172   \n",
       "1  11566.187760  16072.507083   4980.861282      0.000000  14331.406797   \n",
       "2  16049.267047  22875.177018   7477.828144  11555.482578  19023.980067   \n",
       "3  14820.330323  20204.401936   7329.884952  13204.570131  17277.559869   \n",
       "4  13511.564101  18480.740151   4682.758088      0.000000  14374.795867   \n",
       "\n",
       "      Gamma_TP9    Gamma_AF7    Gamma_AF8    Gamma_TP10  Label  \n",
       "0  14527.987858  1724.751042     0.000000  13411.244841      1  \n",
       "1  10389.427864   698.552269     0.000000  11762.435847      0  \n",
       "2  21727.751956  1820.347673  8161.365913  18038.997118      1  \n",
       "3  14531.156166  -292.081546  4763.145038  13344.224953      0  \n",
       "4  14601.476676   534.096694     0.000000  10550.715838      0  \n",
       "\n",
       "[5 rows x 21 columns]"
      ]
     },
     "execution_count": 1,
     "metadata": {},
     "output_type": "execute_result"
    }
   ],
   "source": [
    "import pandas as pd\n",
    "\n",
    "data = pd.read_csv(\"area_under_curve.csv\")\n",
    "data.head()"
   ]
  },
  {
   "cell_type": "markdown",
   "metadata": {},
   "source": [
    "### Median imputation"
   ]
  },
  {
   "cell_type": "code",
   "execution_count": 2,
   "metadata": {},
   "outputs": [],
   "source": [
    "def replace_zeros_with_median(df, label_column):\n",
    "    \"\"\"Function to replace 0s with median for each column based on the label\"\"\"\n",
    "    \n",
    "    for column in df.columns:\n",
    "        # calculate median for each label group\n",
    "        median_values = df.groupby(label_column)[column].median()\n",
    "\n",
    "        # replace 0s with median based on the label of each row\n",
    "        df[column] = df.apply(lambda row: median_values[row[label_column]] if row[column] == 0 else row[column], axis=1)\n",
    "\n",
    "    return df"
   ]
  },
  {
   "cell_type": "code",
   "execution_count": 3,
   "metadata": {},
   "outputs": [
    {
     "data": {
      "text/html": [
       "<div>\n",
       "<style scoped>\n",
       "    .dataframe tbody tr th:only-of-type {\n",
       "        vertical-align: middle;\n",
       "    }\n",
       "\n",
       "    .dataframe tbody tr th {\n",
       "        vertical-align: top;\n",
       "    }\n",
       "\n",
       "    .dataframe thead th {\n",
       "        text-align: right;\n",
       "    }\n",
       "</style>\n",
       "<table border=\"1\" class=\"dataframe\">\n",
       "  <thead>\n",
       "    <tr style=\"text-align: right;\">\n",
       "      <th></th>\n",
       "      <th>Delta_TP9</th>\n",
       "      <th>Delta_AF7</th>\n",
       "      <th>Delta_AF8</th>\n",
       "      <th>Delta_TP10</th>\n",
       "      <th>Theta_TP9</th>\n",
       "      <th>Theta_AF7</th>\n",
       "      <th>Theta_AF8</th>\n",
       "      <th>Theta_TP10</th>\n",
       "      <th>Alpha_TP9</th>\n",
       "      <th>Alpha_AF7</th>\n",
       "      <th>...</th>\n",
       "      <th>Alpha_TP10</th>\n",
       "      <th>Beta_TP9</th>\n",
       "      <th>Beta_AF7</th>\n",
       "      <th>Beta_AF8</th>\n",
       "      <th>Beta_TP10</th>\n",
       "      <th>Gamma_TP9</th>\n",
       "      <th>Gamma_AF7</th>\n",
       "      <th>Gamma_AF8</th>\n",
       "      <th>Gamma_TP10</th>\n",
       "      <th>Label</th>\n",
       "    </tr>\n",
       "  </thead>\n",
       "  <tbody>\n",
       "    <tr>\n",
       "      <th>0</th>\n",
       "      <td>17099.267458</td>\n",
       "      <td>18719.659603</td>\n",
       "      <td>10611.265447</td>\n",
       "      <td>16531.085677</td>\n",
       "      <td>14241.372044</td>\n",
       "      <td>16014.591076</td>\n",
       "      <td>3761.048147</td>\n",
       "      <td>14005.573779</td>\n",
       "      <td>20210.156169</td>\n",
       "      <td>13390.938539</td>\n",
       "      <td>...</td>\n",
       "      <td>17939.091727</td>\n",
       "      <td>18599.079901</td>\n",
       "      <td>11146.124580</td>\n",
       "      <td>2903.246128</td>\n",
       "      <td>16501.495172</td>\n",
       "      <td>14527.987858</td>\n",
       "      <td>1724.751042</td>\n",
       "      <td>-232.061855</td>\n",
       "      <td>13411.244841</td>\n",
       "      <td>1.0</td>\n",
       "    </tr>\n",
       "    <tr>\n",
       "      <th>1</th>\n",
       "      <td>11198.720300</td>\n",
       "      <td>18034.494223</td>\n",
       "      <td>7233.162447</td>\n",
       "      <td>10638.094777</td>\n",
       "      <td>9873.838888</td>\n",
       "      <td>10651.599822</td>\n",
       "      <td>4152.945713</td>\n",
       "      <td>10103.227633</td>\n",
       "      <td>14258.112876</td>\n",
       "      <td>11266.480227</td>\n",
       "      <td>...</td>\n",
       "      <td>11566.187760</td>\n",
       "      <td>16072.507083</td>\n",
       "      <td>4980.861282</td>\n",
       "      <td>1057.621655</td>\n",
       "      <td>14331.406797</td>\n",
       "      <td>10389.427864</td>\n",
       "      <td>698.552269</td>\n",
       "      <td>0.000000</td>\n",
       "      <td>11762.435847</td>\n",
       "      <td>0.0</td>\n",
       "    </tr>\n",
       "    <tr>\n",
       "      <th>2</th>\n",
       "      <td>11759.988085</td>\n",
       "      <td>13951.123996</td>\n",
       "      <td>19378.781415</td>\n",
       "      <td>12556.104976</td>\n",
       "      <td>13919.691015</td>\n",
       "      <td>10065.378732</td>\n",
       "      <td>11625.817268</td>\n",
       "      <td>11532.015437</td>\n",
       "      <td>17423.918870</td>\n",
       "      <td>11571.261819</td>\n",
       "      <td>...</td>\n",
       "      <td>16049.267047</td>\n",
       "      <td>22875.177018</td>\n",
       "      <td>7477.828144</td>\n",
       "      <td>11555.482578</td>\n",
       "      <td>19023.980067</td>\n",
       "      <td>21727.751956</td>\n",
       "      <td>1820.347673</td>\n",
       "      <td>8161.365913</td>\n",
       "      <td>18038.997118</td>\n",
       "      <td>1.0</td>\n",
       "    </tr>\n",
       "    <tr>\n",
       "      <th>3</th>\n",
       "      <td>15323.164331</td>\n",
       "      <td>17742.255086</td>\n",
       "      <td>26539.714903</td>\n",
       "      <td>13709.487935</td>\n",
       "      <td>12177.496766</td>\n",
       "      <td>11701.420319</td>\n",
       "      <td>19188.046574</td>\n",
       "      <td>12695.649223</td>\n",
       "      <td>16062.281032</td>\n",
       "      <td>11428.816573</td>\n",
       "      <td>...</td>\n",
       "      <td>14820.330323</td>\n",
       "      <td>20204.401936</td>\n",
       "      <td>7329.884952</td>\n",
       "      <td>13204.570131</td>\n",
       "      <td>17277.559869</td>\n",
       "      <td>14531.156166</td>\n",
       "      <td>-292.081546</td>\n",
       "      <td>4763.145038</td>\n",
       "      <td>13344.224953</td>\n",
       "      <td>0.0</td>\n",
       "    </tr>\n",
       "    <tr>\n",
       "      <th>4</th>\n",
       "      <td>11107.305700</td>\n",
       "      <td>9098.477752</td>\n",
       "      <td>7233.162447</td>\n",
       "      <td>13752.142985</td>\n",
       "      <td>12020.918779</td>\n",
       "      <td>4061.515408</td>\n",
       "      <td>4152.945713</td>\n",
       "      <td>10217.907270</td>\n",
       "      <td>18837.984110</td>\n",
       "      <td>7334.236651</td>\n",
       "      <td>...</td>\n",
       "      <td>13511.564101</td>\n",
       "      <td>18480.740151</td>\n",
       "      <td>4682.758088</td>\n",
       "      <td>1057.621655</td>\n",
       "      <td>14374.795867</td>\n",
       "      <td>14601.476676</td>\n",
       "      <td>534.096694</td>\n",
       "      <td>0.000000</td>\n",
       "      <td>10550.715838</td>\n",
       "      <td>0.0</td>\n",
       "    </tr>\n",
       "  </tbody>\n",
       "</table>\n",
       "<p>5 rows × 21 columns</p>\n",
       "</div>"
      ],
      "text/plain": [
       "      Delta_TP9     Delta_AF7     Delta_AF8    Delta_TP10     Theta_TP9  \\\n",
       "0  17099.267458  18719.659603  10611.265447  16531.085677  14241.372044   \n",
       "1  11198.720300  18034.494223   7233.162447  10638.094777   9873.838888   \n",
       "2  11759.988085  13951.123996  19378.781415  12556.104976  13919.691015   \n",
       "3  15323.164331  17742.255086  26539.714903  13709.487935  12177.496766   \n",
       "4  11107.305700   9098.477752   7233.162447  13752.142985  12020.918779   \n",
       "\n",
       "      Theta_AF7     Theta_AF8    Theta_TP10     Alpha_TP9     Alpha_AF7  ...  \\\n",
       "0  16014.591076   3761.048147  14005.573779  20210.156169  13390.938539  ...   \n",
       "1  10651.599822   4152.945713  10103.227633  14258.112876  11266.480227  ...   \n",
       "2  10065.378732  11625.817268  11532.015437  17423.918870  11571.261819  ...   \n",
       "3  11701.420319  19188.046574  12695.649223  16062.281032  11428.816573  ...   \n",
       "4   4061.515408   4152.945713  10217.907270  18837.984110   7334.236651  ...   \n",
       "\n",
       "     Alpha_TP10      Beta_TP9      Beta_AF7      Beta_AF8     Beta_TP10  \\\n",
       "0  17939.091727  18599.079901  11146.124580   2903.246128  16501.495172   \n",
       "1  11566.187760  16072.507083   4980.861282   1057.621655  14331.406797   \n",
       "2  16049.267047  22875.177018   7477.828144  11555.482578  19023.980067   \n",
       "3  14820.330323  20204.401936   7329.884952  13204.570131  17277.559869   \n",
       "4  13511.564101  18480.740151   4682.758088   1057.621655  14374.795867   \n",
       "\n",
       "      Gamma_TP9    Gamma_AF7    Gamma_AF8    Gamma_TP10  Label  \n",
       "0  14527.987858  1724.751042  -232.061855  13411.244841    1.0  \n",
       "1  10389.427864   698.552269     0.000000  11762.435847    0.0  \n",
       "2  21727.751956  1820.347673  8161.365913  18038.997118    1.0  \n",
       "3  14531.156166  -292.081546  4763.145038  13344.224953    0.0  \n",
       "4  14601.476676   534.096694     0.000000  10550.715838    0.0  \n",
       "\n",
       "[5 rows x 21 columns]"
      ]
     },
     "execution_count": 3,
     "metadata": {},
     "output_type": "execute_result"
    }
   ],
   "source": [
    "data = replace_zeros_with_median(data, \"Label\")\n",
    "data.head()"
   ]
  },
  {
   "cell_type": "code",
   "execution_count": 4,
   "metadata": {},
   "outputs": [
    {
     "data": {
      "text/html": [
       "<div>\n",
       "<style scoped>\n",
       "    .dataframe tbody tr th:only-of-type {\n",
       "        vertical-align: middle;\n",
       "    }\n",
       "\n",
       "    .dataframe tbody tr th {\n",
       "        vertical-align: top;\n",
       "    }\n",
       "\n",
       "    .dataframe thead th {\n",
       "        text-align: right;\n",
       "    }\n",
       "</style>\n",
       "<table border=\"1\" class=\"dataframe\">\n",
       "  <thead>\n",
       "    <tr style=\"text-align: right;\">\n",
       "      <th></th>\n",
       "      <th>Delta_TP9</th>\n",
       "      <th>Delta_AF7</th>\n",
       "      <th>Delta_AF8</th>\n",
       "      <th>Delta_TP10</th>\n",
       "      <th>Theta_TP9</th>\n",
       "      <th>Theta_AF7</th>\n",
       "      <th>Theta_AF8</th>\n",
       "      <th>Theta_TP10</th>\n",
       "      <th>Alpha_TP9</th>\n",
       "      <th>Alpha_AF7</th>\n",
       "      <th>Alpha_AF8</th>\n",
       "      <th>Alpha_TP10</th>\n",
       "      <th>Beta_TP9</th>\n",
       "      <th>Beta_AF7</th>\n",
       "      <th>Beta_AF8</th>\n",
       "      <th>Beta_TP10</th>\n",
       "      <th>Gamma_TP9</th>\n",
       "      <th>Gamma_AF7</th>\n",
       "      <th>Gamma_AF8</th>\n",
       "      <th>Gamma_TP10</th>\n",
       "    </tr>\n",
       "  </thead>\n",
       "  <tbody>\n",
       "    <tr>\n",
       "      <th>0</th>\n",
       "      <td>17099.267458</td>\n",
       "      <td>18719.659603</td>\n",
       "      <td>10611.265447</td>\n",
       "      <td>16531.085677</td>\n",
       "      <td>14241.372044</td>\n",
       "      <td>16014.591076</td>\n",
       "      <td>3761.048147</td>\n",
       "      <td>14005.573779</td>\n",
       "      <td>20210.156169</td>\n",
       "      <td>13390.938539</td>\n",
       "      <td>5140.426448</td>\n",
       "      <td>17939.091727</td>\n",
       "      <td>18599.079901</td>\n",
       "      <td>11146.124580</td>\n",
       "      <td>2903.246128</td>\n",
       "      <td>16501.495172</td>\n",
       "      <td>14527.987858</td>\n",
       "      <td>1724.751042</td>\n",
       "      <td>-232.061855</td>\n",
       "      <td>13411.244841</td>\n",
       "    </tr>\n",
       "    <tr>\n",
       "      <th>1</th>\n",
       "      <td>11198.720300</td>\n",
       "      <td>18034.494223</td>\n",
       "      <td>7233.162447</td>\n",
       "      <td>10638.094777</td>\n",
       "      <td>9873.838888</td>\n",
       "      <td>10651.599822</td>\n",
       "      <td>4152.945713</td>\n",
       "      <td>10103.227633</td>\n",
       "      <td>14258.112876</td>\n",
       "      <td>11266.480227</td>\n",
       "      <td>3976.212778</td>\n",
       "      <td>11566.187760</td>\n",
       "      <td>16072.507083</td>\n",
       "      <td>4980.861282</td>\n",
       "      <td>1057.621655</td>\n",
       "      <td>14331.406797</td>\n",
       "      <td>10389.427864</td>\n",
       "      <td>698.552269</td>\n",
       "      <td>0.000000</td>\n",
       "      <td>11762.435847</td>\n",
       "    </tr>\n",
       "    <tr>\n",
       "      <th>2</th>\n",
       "      <td>11759.988085</td>\n",
       "      <td>13951.123996</td>\n",
       "      <td>19378.781415</td>\n",
       "      <td>12556.104976</td>\n",
       "      <td>13919.691015</td>\n",
       "      <td>10065.378732</td>\n",
       "      <td>11625.817268</td>\n",
       "      <td>11532.015437</td>\n",
       "      <td>17423.918870</td>\n",
       "      <td>11571.261819</td>\n",
       "      <td>13469.210388</td>\n",
       "      <td>16049.267047</td>\n",
       "      <td>22875.177018</td>\n",
       "      <td>7477.828144</td>\n",
       "      <td>11555.482578</td>\n",
       "      <td>19023.980067</td>\n",
       "      <td>21727.751956</td>\n",
       "      <td>1820.347673</td>\n",
       "      <td>8161.365913</td>\n",
       "      <td>18038.997118</td>\n",
       "    </tr>\n",
       "    <tr>\n",
       "      <th>3</th>\n",
       "      <td>15323.164331</td>\n",
       "      <td>17742.255086</td>\n",
       "      <td>26539.714903</td>\n",
       "      <td>13709.487935</td>\n",
       "      <td>12177.496766</td>\n",
       "      <td>11701.420319</td>\n",
       "      <td>19188.046574</td>\n",
       "      <td>12695.649223</td>\n",
       "      <td>16062.281032</td>\n",
       "      <td>11428.816573</td>\n",
       "      <td>18221.013524</td>\n",
       "      <td>14820.330323</td>\n",
       "      <td>20204.401936</td>\n",
       "      <td>7329.884952</td>\n",
       "      <td>13204.570131</td>\n",
       "      <td>17277.559869</td>\n",
       "      <td>14531.156166</td>\n",
       "      <td>-292.081546</td>\n",
       "      <td>4763.145038</td>\n",
       "      <td>13344.224953</td>\n",
       "    </tr>\n",
       "    <tr>\n",
       "      <th>4</th>\n",
       "      <td>11107.305700</td>\n",
       "      <td>9098.477752</td>\n",
       "      <td>7233.162447</td>\n",
       "      <td>13752.142985</td>\n",
       "      <td>12020.918779</td>\n",
       "      <td>4061.515408</td>\n",
       "      <td>4152.945713</td>\n",
       "      <td>10217.907270</td>\n",
       "      <td>18837.984110</td>\n",
       "      <td>7334.236651</td>\n",
       "      <td>3976.212778</td>\n",
       "      <td>13511.564101</td>\n",
       "      <td>18480.740151</td>\n",
       "      <td>4682.758088</td>\n",
       "      <td>1057.621655</td>\n",
       "      <td>14374.795867</td>\n",
       "      <td>14601.476676</td>\n",
       "      <td>534.096694</td>\n",
       "      <td>0.000000</td>\n",
       "      <td>10550.715838</td>\n",
       "    </tr>\n",
       "  </tbody>\n",
       "</table>\n",
       "</div>"
      ],
      "text/plain": [
       "      Delta_TP9     Delta_AF7     Delta_AF8    Delta_TP10     Theta_TP9  \\\n",
       "0  17099.267458  18719.659603  10611.265447  16531.085677  14241.372044   \n",
       "1  11198.720300  18034.494223   7233.162447  10638.094777   9873.838888   \n",
       "2  11759.988085  13951.123996  19378.781415  12556.104976  13919.691015   \n",
       "3  15323.164331  17742.255086  26539.714903  13709.487935  12177.496766   \n",
       "4  11107.305700   9098.477752   7233.162447  13752.142985  12020.918779   \n",
       "\n",
       "      Theta_AF7     Theta_AF8    Theta_TP10     Alpha_TP9     Alpha_AF7  \\\n",
       "0  16014.591076   3761.048147  14005.573779  20210.156169  13390.938539   \n",
       "1  10651.599822   4152.945713  10103.227633  14258.112876  11266.480227   \n",
       "2  10065.378732  11625.817268  11532.015437  17423.918870  11571.261819   \n",
       "3  11701.420319  19188.046574  12695.649223  16062.281032  11428.816573   \n",
       "4   4061.515408   4152.945713  10217.907270  18837.984110   7334.236651   \n",
       "\n",
       "      Alpha_AF8    Alpha_TP10      Beta_TP9      Beta_AF7      Beta_AF8  \\\n",
       "0   5140.426448  17939.091727  18599.079901  11146.124580   2903.246128   \n",
       "1   3976.212778  11566.187760  16072.507083   4980.861282   1057.621655   \n",
       "2  13469.210388  16049.267047  22875.177018   7477.828144  11555.482578   \n",
       "3  18221.013524  14820.330323  20204.401936   7329.884952  13204.570131   \n",
       "4   3976.212778  13511.564101  18480.740151   4682.758088   1057.621655   \n",
       "\n",
       "      Beta_TP10     Gamma_TP9    Gamma_AF7    Gamma_AF8    Gamma_TP10  \n",
       "0  16501.495172  14527.987858  1724.751042  -232.061855  13411.244841  \n",
       "1  14331.406797  10389.427864   698.552269     0.000000  11762.435847  \n",
       "2  19023.980067  21727.751956  1820.347673  8161.365913  18038.997118  \n",
       "3  17277.559869  14531.156166  -292.081546  4763.145038  13344.224953  \n",
       "4  14374.795867  14601.476676   534.096694     0.000000  10550.715838  "
      ]
     },
     "execution_count": 4,
     "metadata": {},
     "output_type": "execute_result"
    }
   ],
   "source": [
    "selected_columns = [\n",
    "    'Delta_TP9', 'Delta_AF7', 'Delta_AF8', 'Delta_TP10',\n",
    "    'Theta_TP9', 'Theta_AF7', 'Theta_AF8', 'Theta_TP10',\n",
    "    'Alpha_TP9', 'Alpha_AF7', 'Alpha_AF8', 'Alpha_TP10',\n",
    "    'Beta_TP9', 'Beta_AF7', 'Beta_AF8', 'Beta_TP10',\n",
    "    'Gamma_TP9', 'Gamma_AF7', 'Gamma_AF8', 'Gamma_TP10'\n",
    "]\n",
    "\n",
    "X = data.loc[:, selected_columns]\n",
    "X.head()"
   ]
  },
  {
   "cell_type": "code",
   "execution_count": 5,
   "metadata": {},
   "outputs": [
    {
     "data": {
      "text/plain": [
       "0    1.0\n",
       "1    0.0\n",
       "2    1.0\n",
       "3    0.0\n",
       "4    0.0\n",
       "Name: Label, dtype: float64"
      ]
     },
     "execution_count": 5,
     "metadata": {},
     "output_type": "execute_result"
    }
   ],
   "source": [
    "# For y, we have either 0 or 1. \n",
    "# 0 = \"Recall\"\n",
    "# 1 = \"Maze\"\n",
    "\n",
    "y = data.iloc[:, -1]\n",
    "y.head()"
   ]
  },
  {
   "cell_type": "markdown",
   "metadata": {},
   "source": [
    "### Removing rows with missing data"
   ]
  },
  {
   "cell_type": "code",
   "execution_count": 6,
   "metadata": {},
   "outputs": [
    {
     "data": {
      "text/html": [
       "<div>\n",
       "<style scoped>\n",
       "    .dataframe tbody tr th:only-of-type {\n",
       "        vertical-align: middle;\n",
       "    }\n",
       "\n",
       "    .dataframe tbody tr th {\n",
       "        vertical-align: top;\n",
       "    }\n",
       "\n",
       "    .dataframe thead th {\n",
       "        text-align: right;\n",
       "    }\n",
       "</style>\n",
       "<table border=\"1\" class=\"dataframe\">\n",
       "  <thead>\n",
       "    <tr style=\"text-align: right;\">\n",
       "      <th></th>\n",
       "      <th>Delta_TP9</th>\n",
       "      <th>Delta_AF7</th>\n",
       "      <th>Delta_AF8</th>\n",
       "      <th>Delta_TP10</th>\n",
       "      <th>Theta_TP9</th>\n",
       "      <th>Theta_AF7</th>\n",
       "      <th>Theta_AF8</th>\n",
       "      <th>Theta_TP10</th>\n",
       "      <th>Alpha_TP9</th>\n",
       "      <th>Alpha_AF7</th>\n",
       "      <th>Alpha_AF8</th>\n",
       "      <th>Alpha_TP10</th>\n",
       "      <th>Beta_TP9</th>\n",
       "      <th>Beta_AF7</th>\n",
       "      <th>Beta_AF8</th>\n",
       "      <th>Beta_TP10</th>\n",
       "      <th>Gamma_TP9</th>\n",
       "      <th>Gamma_AF7</th>\n",
       "      <th>Gamma_AF8</th>\n",
       "      <th>Gamma_TP10</th>\n",
       "    </tr>\n",
       "  </thead>\n",
       "  <tbody>\n",
       "    <tr>\n",
       "      <th>0</th>\n",
       "      <td>17099.267458</td>\n",
       "      <td>18719.659603</td>\n",
       "      <td>10611.265447</td>\n",
       "      <td>16531.085677</td>\n",
       "      <td>14241.372044</td>\n",
       "      <td>16014.591076</td>\n",
       "      <td>3761.048147</td>\n",
       "      <td>14005.573779</td>\n",
       "      <td>20210.156169</td>\n",
       "      <td>13390.938539</td>\n",
       "      <td>5140.426448</td>\n",
       "      <td>17939.091727</td>\n",
       "      <td>18599.079901</td>\n",
       "      <td>11146.124580</td>\n",
       "      <td>2903.246128</td>\n",
       "      <td>16501.495172</td>\n",
       "      <td>14527.987858</td>\n",
       "      <td>1724.751042</td>\n",
       "      <td>-232.061855</td>\n",
       "      <td>13411.244841</td>\n",
       "    </tr>\n",
       "    <tr>\n",
       "      <th>1</th>\n",
       "      <td>11198.720300</td>\n",
       "      <td>18034.494223</td>\n",
       "      <td>7233.162447</td>\n",
       "      <td>10638.094777</td>\n",
       "      <td>9873.838888</td>\n",
       "      <td>10651.599822</td>\n",
       "      <td>4152.945713</td>\n",
       "      <td>10103.227633</td>\n",
       "      <td>14258.112876</td>\n",
       "      <td>11266.480227</td>\n",
       "      <td>3976.212778</td>\n",
       "      <td>11566.187760</td>\n",
       "      <td>16072.507083</td>\n",
       "      <td>4980.861282</td>\n",
       "      <td>1057.621655</td>\n",
       "      <td>14331.406797</td>\n",
       "      <td>10389.427864</td>\n",
       "      <td>698.552269</td>\n",
       "      <td>0.000000</td>\n",
       "      <td>11762.435847</td>\n",
       "    </tr>\n",
       "    <tr>\n",
       "      <th>2</th>\n",
       "      <td>11759.988085</td>\n",
       "      <td>13951.123996</td>\n",
       "      <td>19378.781415</td>\n",
       "      <td>12556.104976</td>\n",
       "      <td>13919.691015</td>\n",
       "      <td>10065.378732</td>\n",
       "      <td>11625.817268</td>\n",
       "      <td>11532.015437</td>\n",
       "      <td>17423.918870</td>\n",
       "      <td>11571.261819</td>\n",
       "      <td>13469.210388</td>\n",
       "      <td>16049.267047</td>\n",
       "      <td>22875.177018</td>\n",
       "      <td>7477.828144</td>\n",
       "      <td>11555.482578</td>\n",
       "      <td>19023.980067</td>\n",
       "      <td>21727.751956</td>\n",
       "      <td>1820.347673</td>\n",
       "      <td>8161.365913</td>\n",
       "      <td>18038.997118</td>\n",
       "    </tr>\n",
       "    <tr>\n",
       "      <th>3</th>\n",
       "      <td>15323.164331</td>\n",
       "      <td>17742.255086</td>\n",
       "      <td>26539.714903</td>\n",
       "      <td>13709.487935</td>\n",
       "      <td>12177.496766</td>\n",
       "      <td>11701.420319</td>\n",
       "      <td>19188.046574</td>\n",
       "      <td>12695.649223</td>\n",
       "      <td>16062.281032</td>\n",
       "      <td>11428.816573</td>\n",
       "      <td>18221.013524</td>\n",
       "      <td>14820.330323</td>\n",
       "      <td>20204.401936</td>\n",
       "      <td>7329.884952</td>\n",
       "      <td>13204.570131</td>\n",
       "      <td>17277.559869</td>\n",
       "      <td>14531.156166</td>\n",
       "      <td>-292.081546</td>\n",
       "      <td>4763.145038</td>\n",
       "      <td>13344.224953</td>\n",
       "    </tr>\n",
       "    <tr>\n",
       "      <th>4</th>\n",
       "      <td>11107.305700</td>\n",
       "      <td>9098.477752</td>\n",
       "      <td>7233.162447</td>\n",
       "      <td>13752.142985</td>\n",
       "      <td>12020.918779</td>\n",
       "      <td>4061.515408</td>\n",
       "      <td>4152.945713</td>\n",
       "      <td>10217.907270</td>\n",
       "      <td>18837.984110</td>\n",
       "      <td>7334.236651</td>\n",
       "      <td>3976.212778</td>\n",
       "      <td>13511.564101</td>\n",
       "      <td>18480.740151</td>\n",
       "      <td>4682.758088</td>\n",
       "      <td>1057.621655</td>\n",
       "      <td>14374.795867</td>\n",
       "      <td>14601.476676</td>\n",
       "      <td>534.096694</td>\n",
       "      <td>0.000000</td>\n",
       "      <td>10550.715838</td>\n",
       "    </tr>\n",
       "  </tbody>\n",
       "</table>\n",
       "</div>"
      ],
      "text/plain": [
       "      Delta_TP9     Delta_AF7     Delta_AF8    Delta_TP10     Theta_TP9  \\\n",
       "0  17099.267458  18719.659603  10611.265447  16531.085677  14241.372044   \n",
       "1  11198.720300  18034.494223   7233.162447  10638.094777   9873.838888   \n",
       "2  11759.988085  13951.123996  19378.781415  12556.104976  13919.691015   \n",
       "3  15323.164331  17742.255086  26539.714903  13709.487935  12177.496766   \n",
       "4  11107.305700   9098.477752   7233.162447  13752.142985  12020.918779   \n",
       "\n",
       "      Theta_AF7     Theta_AF8    Theta_TP10     Alpha_TP9     Alpha_AF7  \\\n",
       "0  16014.591076   3761.048147  14005.573779  20210.156169  13390.938539   \n",
       "1  10651.599822   4152.945713  10103.227633  14258.112876  11266.480227   \n",
       "2  10065.378732  11625.817268  11532.015437  17423.918870  11571.261819   \n",
       "3  11701.420319  19188.046574  12695.649223  16062.281032  11428.816573   \n",
       "4   4061.515408   4152.945713  10217.907270  18837.984110   7334.236651   \n",
       "\n",
       "      Alpha_AF8    Alpha_TP10      Beta_TP9      Beta_AF7      Beta_AF8  \\\n",
       "0   5140.426448  17939.091727  18599.079901  11146.124580   2903.246128   \n",
       "1   3976.212778  11566.187760  16072.507083   4980.861282   1057.621655   \n",
       "2  13469.210388  16049.267047  22875.177018   7477.828144  11555.482578   \n",
       "3  18221.013524  14820.330323  20204.401936   7329.884952  13204.570131   \n",
       "4   3976.212778  13511.564101  18480.740151   4682.758088   1057.621655   \n",
       "\n",
       "      Beta_TP10     Gamma_TP9    Gamma_AF7    Gamma_AF8    Gamma_TP10  \n",
       "0  16501.495172  14527.987858  1724.751042  -232.061855  13411.244841  \n",
       "1  14331.406797  10389.427864   698.552269     0.000000  11762.435847  \n",
       "2  19023.980067  21727.751956  1820.347673  8161.365913  18038.997118  \n",
       "3  17277.559869  14531.156166  -292.081546  4763.145038  13344.224953  \n",
       "4  14374.795867  14601.476676   534.096694     0.000000  10550.715838  "
      ]
     },
     "execution_count": 6,
     "metadata": {},
     "output_type": "execute_result"
    }
   ],
   "source": [
    "X_cleaned = X.dropna()\n",
    "X_cleaned.head()"
   ]
  },
  {
   "cell_type": "markdown",
   "metadata": {},
   "source": [
    "### Remove outliers"
   ]
  },
  {
   "cell_type": "code",
   "execution_count": 7,
   "metadata": {},
   "outputs": [],
   "source": [
    "Q1 = X_cleaned.quantile(0.25)\n",
    "Q3 = X_cleaned.quantile(0.75)\n",
    "IQR = Q3 - Q1\n",
    "\n",
    "lower_bound = Q1 - 3.0 * IQR\n",
    "upper_bound = Q3 + 3.0 * IQR\n",
    "\n",
    "outliers = ((X_cleaned < lower_bound) | (X_cleaned > upper_bound)).any(axis=1)\n",
    "\n",
    "X_cleaned = X_cleaned[~outliers]\n",
    "y_cleaned = y[~outliers]"
   ]
  },
  {
   "cell_type": "markdown",
   "metadata": {},
   "source": [
    "### Splitting the train and test data"
   ]
  },
  {
   "cell_type": "code",
   "execution_count": 8,
   "metadata": {},
   "outputs": [
    {
     "name": "stdout",
     "output_type": "stream",
     "text": [
      "(18, 20) (5, 20) (18,) (5,)\n"
     ]
    }
   ],
   "source": [
    "from sklearn.model_selection import train_test_split\n",
    "\n",
    "X_train, X_test, y_train, y_test = train_test_split(X_cleaned, y_cleaned, test_size=0.2, random_state=42)\n",
    "print(X_train.shape, X_test.shape, y_train.shape, y_test.shape)"
   ]
  },
  {
   "cell_type": "markdown",
   "metadata": {},
   "source": [
    "### Data Augmentation"
   ]
  },
  {
   "cell_type": "code",
   "execution_count": 9,
   "metadata": {},
   "outputs": [],
   "source": [
    "import numpy as np\n",
    "\n",
    "augmentation_factor = 2\n",
    "noise_factor = 0.5\n",
    "\n",
    "X_train_augmented = np.empty((0, X_train.shape[1]))\n",
    "y_train_augmented = np.tile(y_train, augmentation_factor)\n",
    "\n",
    "for i in range(augmentation_factor):\n",
    "    X_train_noisy = X_train + np.random.normal(0, noise_factor, size=X_train.shape)\n",
    "    X_train_augmented = np.vstack((X_train_augmented, X_train_noisy))\n",
    "\n",
    "y_train_augmented = np.tile(y_train, augmentation_factor)"
   ]
  },
  {
   "cell_type": "markdown",
   "metadata": {},
   "source": [
    "### Feature Scaling"
   ]
  },
  {
   "cell_type": "code",
   "execution_count": 10,
   "metadata": {},
   "outputs": [
    {
     "name": "stderr",
     "output_type": "stream",
     "text": [
      "/Library/Frameworks/Python.framework/Versions/3.9/lib/python3.9/site-packages/sklearn/base.py:457: UserWarning: X has feature names, but StandardScaler was fitted without feature names\n",
      "  warnings.warn(\n"
     ]
    }
   ],
   "source": [
    "from sklearn.preprocessing import StandardScaler\n",
    "\n",
    "sc = StandardScaler()\n",
    "sc.fit(X_train_augmented)\n",
    "\n",
    "sc.feature_names_in_ = [str(i) for i in range(X_train_augmented.shape[1])]\n",
    "\n",
    "X_train = sc.fit_transform(X_train_augmented)\n",
    "y_train = y_train_augmented\n",
    "X_test = sc.transform(X_test)"
   ]
  },
  {
   "cell_type": "markdown",
   "metadata": {},
   "source": [
    "## Defining Evaluation Functions"
   ]
  },
  {
   "cell_type": "markdown",
   "metadata": {},
   "source": [
    "### Confusion Matrix"
   ]
  },
  {
   "cell_type": "code",
   "execution_count": 11,
   "metadata": {},
   "outputs": [],
   "source": [
    "import seaborn as sb\n",
    "import matplotlib.pyplot as plt\n",
    "from sklearn.metrics import confusion_matrix\n",
    "\n",
    "def show_confusion_matrix(y_test, y_pred, name):\n",
    "    cm = confusion_matrix(y_test, y_pred)\n",
    "\n",
    "    # Print confusion matrix\n",
    "    print(f\"Confusion Matrix for {name}\")\n",
    "    print(cm)\n",
    "\n",
    "    plt.figure(figsize=(12, 4))\n",
    "\n",
    "    # Plot the first heatmap\n",
    "    sb.heatmap(cm, annot=True, fmt=\"d\", cmap=\"Blues\", cbar=False,\n",
    "                xticklabels=[\"Predicted Negative\", \"Predicted Positive\"],\n",
    "                yticklabels=[\"Actual Negative\", \"Actual Positive\"])\n",
    "    plt.xlabel('Predicted')\n",
    "    plt.ylabel('Actual')\n",
    "    plt.title(f'Confusion Matrix for {name}')\n",
    "    plt.show()\n",
    "    \n",
    "    print(\"Note: The negative class (0) is 'Recall', while the positive class (1) is 'Maze'.\")"
   ]
  },
  {
   "cell_type": "markdown",
   "metadata": {},
   "source": [
    "### K-fold Cross-Validation"
   ]
  },
  {
   "cell_type": "code",
   "execution_count": 12,
   "metadata": {},
   "outputs": [],
   "source": [
    "from sklearn.metrics import accuracy_score\n",
    "from sklearn.model_selection import cross_val_score\n",
    "\n",
    "def show_kfold_cross_validation(model, X_train, y_train, X_test, y_test, cv):\n",
    "    scores = cross_val_score(model, X_train, y_train, cv=cv)\n",
    "\n",
    "    # Store cross-validation scores in a DataFrame\n",
    "    cv_results = pd.DataFrame({'Fold': range(1, len(scores) + 1), 'Accuracy': scores})\n",
    "\n",
    "    # Display cross-validation scores\n",
    "    print(\"Cross-Validation Scores:\")\n",
    "    print(cv_results.to_string(index=False))\n",
    "    \n",
    "    # Calculate and display mean accuracy\n",
    "    mean_accuracy = scores.mean()\n",
    "    print(f'\\nMean Accuracy: {mean_accuracy:.3f}')\n",
    "    \n",
    "    # Fit the model on the training set and make predictions on the test set\n",
    "    model.fit(X_train, y_train)\n",
    "    y_pred = model.predict(X_test)\n",
    "\n",
    "    # Calculate and display test accuracy\n",
    "    test_accuracy = accuracy_score(y_test, y_pred)\n",
    "    print(f\"Test Accuracy: {test_accuracy:.3f}\")"
   ]
  },
  {
   "cell_type": "markdown",
   "metadata": {},
   "source": [
    "## Evaluating Models"
   ]
  },
  {
   "cell_type": "markdown",
   "metadata": {},
   "source": [
    "### KNN"
   ]
  },
  {
   "cell_type": "code",
   "execution_count": 13,
   "metadata": {},
   "outputs": [
    {
     "name": "stdout",
     "output_type": "stream",
     "text": [
      "Cross-Validation Scores:\n",
      " Fold  Accuracy\n",
      "    1  0.625000\n",
      "    2  0.857143\n",
      "    3  1.000000\n",
      "    4  0.428571\n",
      "    5  1.000000\n",
      "\n",
      "Mean Accuracy: 0.782\n",
      "Test Accuracy: 0.800\n",
      "Confusion Matrix for KNN\n",
      "[[1 0]\n",
      " [1 3]]\n"
     ]
    },
    {
     "data": {
      "image/png": "[encoded data removed]",
      "text/plain": [
       "<Figure size 1200x400 with 1 Axes>"
      ]
     },
     "metadata": {},
     "output_type": "display_data"
    },
    {
     "name": "stdout",
     "output_type": "stream",
     "text": [
      "Note: The negative class (0) is 'Recall', while the positive class (1) is 'Maze'.\n"
     ]
    }
   ],
   "source": [
    "from sklearn.neighbors import KNeighborsClassifier\n",
    "\n",
    "knn_clf = KNeighborsClassifier(n_neighbors=5)\n",
    "knn_clf.fit(X_train, y_train)\n",
    "y_pred_knn = knn_clf.predict(X_test)\n",
    "\n",
    "show_kfold_cross_validation(knn_clf, X_train, y_train, X_test, y_test, 5)\n",
    "show_confusion_matrix(y_test, y_pred_knn, \"KNN\")"
   ]
  },
  {
   "cell_type": "markdown",
   "metadata": {},
   "source": [
    "### Logistic Regression"
   ]
  },
  {
   "cell_type": "code",
   "execution_count": 14,
   "metadata": {},
   "outputs": [
    {
     "name": "stdout",
     "output_type": "stream",
     "text": [
      "Cross-Validation Scores:\n",
      " Fold  Accuracy\n",
      "    1       1.0\n",
      "    2       1.0\n",
      "    3       1.0\n",
      "    4       1.0\n",
      "    5       1.0\n",
      "\n",
      "Mean Accuracy: 1.000\n",
      "Test Accuracy: 0.600\n",
      "Confusion Matrix for Logistic Regression\n",
      "[[0 1]\n",
      " [1 3]]\n"
     ]
    },
    {
     "data": {
      "image/png": "[encoded data removed]",
      "text/plain": [
       "<Figure size 1200x400 with 1 Axes>"
      ]
     },
     "metadata": {},
     "output_type": "display_data"
    },
    {
     "name": "stdout",
     "output_type": "stream",
     "text": [
      "Note: The negative class (0) is 'Recall', while the positive class (1) is 'Maze'.\n"
     ]
    }
   ],
   "source": [
    "from sklearn.linear_model import LogisticRegression\n",
    "\n",
    "reg_model = LogisticRegression(max_iter=1000)\n",
    "reg_model.fit(X_train, y_train)\n",
    "y_pred_reg = reg_model.predict(X_test)\n",
    "\n",
    "show_kfold_cross_validation(reg_model, X_train, y_train, X_test, y_test, 5)\n",
    "show_confusion_matrix(y_test, y_pred_reg, \"Logistic Regression\")"
   ]
  },
  {
   "cell_type": "markdown",
   "metadata": {},
   "source": [
    "### SVM"
   ]
  },
  {
   "cell_type": "code",
   "execution_count": 15,
   "metadata": {},
   "outputs": [
    {
     "name": "stdout",
     "output_type": "stream",
     "text": [
      "Cross-Validation Scores:\n",
      " Fold  Accuracy\n",
      "    1       1.0\n",
      "    2       1.0\n",
      "    3       1.0\n",
      "    4       1.0\n",
      "    5       1.0\n",
      "\n",
      "Mean Accuracy: 1.000\n",
      "Test Accuracy: 0.600\n",
      "Confusion Matrix for SVM\n",
      "[[0 1]\n",
      " [1 3]]\n"
     ]
    },
    {
     "data": {
      "image/png": "[encoded data removed]",
      "text/plain": [
       "<Figure size 1200x400 with 1 Axes>"
      ]
     },
     "metadata": {},
     "output_type": "display_data"
    },
    {
     "name": "stdout",
     "output_type": "stream",
     "text": [
      "Note: The negative class (0) is 'Recall', while the positive class (1) is 'Maze'.\n"
     ]
    }
   ],
   "source": [
    "from sklearn.svm import SVC\n",
    "\n",
    "svmrbf = SVC(kernel='rbf')\n",
    "svmrbf.fit(X_train, y_train)\n",
    "y_pred_svm = svmrbf.predict(X_test)\n",
    "\n",
    "show_kfold_cross_validation(svmrbf, X_train, y_train, X_test, y_test, 5)\n",
    "show_confusion_matrix(y_test, y_pred_reg, \"SVM\")"
   ]
  },
  {
   "cell_type": "markdown",
   "metadata": {},
   "source": [
    "### Decision Tree Classifier"
   ]
  },
  {
   "cell_type": "code",
   "execution_count": 16,
   "metadata": {},
   "outputs": [
    {
     "name": "stdout",
     "output_type": "stream",
     "text": [
      "Cross-Validation Scores:\n",
      " Fold  Accuracy\n",
      "    1       1.0\n",
      "    2       1.0\n",
      "    3       1.0\n",
      "    4       1.0\n",
      "    5       1.0\n",
      "\n",
      "Mean Accuracy: 1.000\n",
      "Test Accuracy: 0.600\n",
      "Confusion Matrix for Decision Tree\n",
      "[[1 0]\n",
      " [1 3]]\n"
     ]
    },
    {
     "data": {
      "image/png": "[encoded data removed]",
      "text/plain": [
       "<Figure size 1200x400 with 1 Axes>"
      ]
     },
     "metadata": {},
     "output_type": "display_data"
    },
    {
     "name": "stdout",
     "output_type": "stream",
     "text": [
      "Note: The negative class (0) is 'Recall', while the positive class (1) is 'Maze'.\n"
     ]
    }
   ],
   "source": [
    "from sklearn.tree import DecisionTreeClassifier\n",
    "\n",
    "dt_classifier = DecisionTreeClassifier(max_depth=10)\n",
    "dt_classifier.fit(X_train, y_train)\n",
    "y_pred_dt = dt_classifier.predict(X_test)\n",
    "\n",
    "show_kfold_cross_validation(dt_classifier, X_train, y_train, X_test, y_test, 5)\n",
    "show_confusion_matrix(y_test, y_pred_dt, \"Decision Tree\")"
   ]
  },
  {
   "cell_type": "markdown",
   "metadata": {},
   "source": [
    "### Random Forest Classifier"
   ]
  },
  {
   "cell_type": "code",
   "execution_count": 17,
   "metadata": {},
   "outputs": [
    {
     "name": "stdout",
     "output_type": "stream",
     "text": [
      "Cross-Validation Scores:\n",
      " Fold  Accuracy\n",
      "    1       1.0\n",
      "    2       1.0\n",
      "    3       1.0\n",
      "    4       1.0\n",
      "    5       1.0\n",
      "\n",
      "Mean Accuracy: 1.000\n",
      "Test Accuracy: 0.800\n",
      "Confusion Matrix for Random Forest\n",
      "[[0 1]\n",
      " [1 3]]\n"
     ]
    },
    {
     "data": {
      "image/png": "[encoded data removed]",
      "text/plain": [
       "<Figure size 1200x400 with 1 Axes>"
      ]
     },
     "metadata": {},
     "output_type": "display_data"
    },
    {
     "name": "stdout",
     "output_type": "stream",
     "text": [
      "Note: The negative class (0) is 'Recall', while the positive class (1) is 'Maze'.\n"
     ]
    }
   ],
   "source": [
    "from sklearn.ensemble import RandomForestClassifier\n",
    "\n",
    "rf_classifier = RandomForestClassifier(class_weight='balanced')\n",
    "rf_classifier.fit(X_train, y_train)\n",
    "y_pred_rf = rf_classifier.predict(X_test)\n",
    "\n",
    "show_kfold_cross_validation(rf_classifier, X_train, y_train, X_test, y_test, 5)\n",
    "show_confusion_matrix(y_test, y_pred_rf, \"Random Forest\")"
   ]
  }
 ],
 "metadata": {
  "kernelspec": {
   "display_name": "Python 3 (ipykernel)",
   "language": "python",
   "name": "python3"
  },
  "language_info": {
   "codemirror_mode": {
    "name": "ipython",
    "version": 3
   },
   "file_extension": ".py",
   "mimetype": "text/x-python",
   "name": "python",
   "nbconvert_exporter": "python",
   "pygments_lexer": "ipython3",
   "version": "3.9.10"
  },
  "toc": {
   "base_numbering": 1,
   "nav_menu": {},
   "number_sections": true,
   "sideBar": true,
   "skip_h1_title": false,
   "title_cell": "Table of Contents",
   "title_sidebar": "Contents",
   "toc_cell": false,
   "toc_position": {},
   "toc_section_display": true,
   "toc_window_display": false
  },
  "varInspector": {
   "cols": {
    "lenName": 16,
    "lenType": 16,
    "lenVar": 40
   },
   "kernels_config": {
    "python": {
     "delete_cmd_postfix": "",
     "delete_cmd_prefix": "del ",
     "library": "var_list.py",
     "varRefreshCmd": "print(var_dic_list())"
    },
    "r": {
     "delete_cmd_postfix": ") ",
     "delete_cmd_prefix": "rm(",
     "library": "var_list.r",
     "varRefreshCmd": "cat(var_dic_list()) "
    }
   },
   "types_to_exclude": [
    "module",
    "function",
    "builtin_function_or_method",
    "instance",
    "_Feature"
   ],
   "window_display": false
  }
 },
 "nbformat": 4,
 "nbformat_minor": 2
}
